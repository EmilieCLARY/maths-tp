{
 "cells": [
  {
   "cell_type": "markdown",
   "metadata": {},
   "source": [
    "## TP10 &ndash; Tas de sable\n",
    "\n",
    "Noms des coéquipiers :\n",
    "\n",
    "- **[CLARY Emilie]**\n",
    "- **[DIEU Joachim]**\n",
    "\n",
    "Nous allons travailler dans ce TP avec un modèle combinatoire dynamique simple permettant de voir émerger certains comportements un peu étonnants. Les éléments nécessaires et suffisants pour le TP d'aujourd'hui sont donnés ce fichier, mais pour en savoir plus, vous pouvez consulter les liens suivants :\n",
    "\n",
    "- [What is... a sandpile?](https://www.ams.org/notices/201008/rtx100800976p.pdf)\n",
    "- [Sage Sandpiles](https://people.reed.edu/~davidp/sand/sage/2.3/_build/html/sandpile.html) (implémentation que nous n'utiliserons pas)\n",
    "- [Notes](http://pi.math.cornell.edu/~levine/18.312/alg-comb-lecture-23.pdf) d'un cours de combinatoire à Cornell\n",
    "\n",
    "\n",
    "### 1. Tas de sable\n",
    "\n",
    "Je vous suggère pour commencer de jeter un coup d'œil à la façon dont [les concepts objet sont implémentés en Python](https://docs.python.org/3/tutorial/classes.html), notamment la syntaxe un peu particulière pour les méthodes spéciales ainsi que l'utilisation de `self`.\n",
    "\n",
    "Les tas de sable seront pour nous (on pourrait considérer des versions plus générales) des grilles carrées $n \\times n$ dont chaque case peut contenir un certain nombre (entier naturel) de grains de sable. L'état d'un tel _tas de sable_ sera représenté par une matrice dont les entrées correspondent au nombre de grains sur chaque case.\n",
    "\n",
    "Commencez par charger le fichier `Sandpile.sage` contenant une ébauche de classe modélisant de tels tas de sable. Vous pouvez éditer ce fichier dans votre éditeur de texte préféré (en activant la coloration syntaxique pour Python si vous le souhaitez)."
   ]
  },
  {
   "cell_type": "code",
   "execution_count": 1,
   "metadata": {},
   "outputs": [
    {
     "name": "stdout",
     "output_type": "stream",
     "text": [
      "-= Classe Sandpile chargée =-\n",
      "\n",
      "N'oubliez pas de la recharger à chaque fois que vous la modifiez !\n"
     ]
    }
   ],
   "source": [
    "load(\"Sandpile.sage\")"
   ]
  },
  {
   "cell_type": "code",
   "execution_count": 2,
   "metadata": {},
   "outputs": [],
   "source": [
    "s = Sandpile([[1,2,3], [2,3,4], [3,4,5]])   # constructeur"
   ]
  },
  {
   "cell_type": "code",
   "execution_count": 3,
   "metadata": {},
   "outputs": [
    {
     "data": {
      "text/plain": [
       "[1 2 3]\n",
       "[2 3 4]\n",
       "[3 4 5]"
      ]
     },
     "execution_count": 3,
     "metadata": {},
     "output_type": "execute_result"
    }
   ],
   "source": [
    "s  # la méthode __repr__ est appelée, la matrice d'état est affichée"
   ]
  },
  {
   "cell_type": "markdown",
   "metadata": {},
   "source": [
    "**À faire**: implémenter dans `Sandpile.sage` une méthode `show(self)` renvoyant une image représentant la grille. Vous êtes libres de choisir la façon de représenter les nombres de grains par des couleurs, mais vous devez pouvoir gérer des tailles de grilles et nombres de grains arbitrairement grands.\n",
    "\n",
    "Par exemple, avec le tas de sable ci-dessus, `s.show()` devrait renvoyer quelque chose comme ceci :\n",
    "\n",
    "![](sage0.png)\n",
    "\n",
    "Vous pouvez consulter les fonctionnalités fournies par la commande `matrix_plot` pour ne pas réinventer la roue."
   ]
  },
  {
   "cell_type": "code",
   "execution_count": 4,
   "metadata": {},
   "outputs": [
    {
     "data": {
      "image/png": "[encoded data removed]",
      "text/plain": [
       "Graphics object consisting of 1 graphics primitive"
      ]
     },
     "execution_count": 4,
     "metadata": {},
     "output_type": "execute_result"
    }
   ],
   "source": [
    "s.show()"
   ]
  },
  {
   "cell_type": "markdown",
   "metadata": {},
   "source": [
    "### 2. Tas instables\n",
    "\n",
    "Les cases contenant quatre grains de sable ou plus sont _instables_ : elles peuvent se renverser (_topple_), quatre grains sont alors prélevés d'une telle case et se répartissent chez les quatre voisins immédiats de celle-ci ; si des grains tombent hors de la grille, ils sont perdus.\n",
    "\n",
    "**À faire**: implémenter une méthode `topple(self,i,j)` qui fait se renverser la case $(i,j)$ de `self` si elle est instable (si elle ne l'est pas, rien ne se passe). On convient de numéroter les cases de $(0,0)$ &ndash; en haut à gauche &ndash; à $(n-1,n-1)$ &ndash; en bas à droite.\n",
    "\n",
    "Par exemple avec le tas précédent:"
   ]
  },
  {
   "cell_type": "code",
   "execution_count": 5,
   "metadata": {},
   "outputs": [
    {
     "data": {
      "image/png": "[encoded data removed]",
      "text/plain": [
       "Graphics object consisting of 1 graphics primitive"
      ]
     },
     "execution_count": 5,
     "metadata": {},
     "output_type": "execute_result"
    }
   ],
   "source": [
    "s.topple(1,2)\n",
    "\n",
    "s == Sandpile([[1,2,4],[2,4,0],[3,4,6]])  # True\n",
    "\n",
    "s.show()"
   ]
  },
  {
   "cell_type": "code",
   "execution_count": 6,
   "metadata": {},
   "outputs": [
    {
     "data": {
      "text/plain": [
       "True"
      ]
     },
     "execution_count": 6,
     "metadata": {},
     "output_type": "execute_result"
    }
   ],
   "source": [
    "s.topple(1,1)\n",
    "\n",
    "s == Sandpile([[1,3,4], [3,0,1], [3,5,6]])  # True"
   ]
  },
  {
   "cell_type": "code",
   "execution_count": 7,
   "metadata": {},
   "outputs": [
    {
     "data": {
      "image/png": "[encoded data removed]",
      "text/plain": [
       "Graphics object consisting of 1 graphics primitive"
      ]
     },
     "execution_count": 7,
     "metadata": {},
     "output_type": "execute_result"
    }
   ],
   "source": [
    "s.show()"
   ]
  },
  {
   "cell_type": "markdown",
   "metadata": {},
   "source": [
    "### 3. Stabilisation\n",
    "\n",
    "À force de laisser se renverser les cases instables, on finira par arriver à un tas dans lequel toutes les cases sont stables (s'il y a trop de grains sur la grille, ils finiront par tomber en dehors). Le résultat fondament de la théorie est que le tas stable ainsi obtenu ne dépend pas de l'ordre des renversements effectués.\n",
    "\n",
    "**À faire**: a) Rajouter une méthode `stabilize(self)` qui renverse les cases instables une à une tant qu'il en reste. Pour la gouverne de l'utilisateur, afficher le nombre de renversements effectués pour atteindre une configuration stable (attention : il a tendance à croître rapidement avec la taille du tas !).\n",
    "\n",
    "Exemple avec le tas `s` tel qu'il était à la fin de la section précédente :"
   ]
  },
  {
   "cell_type": "code",
   "execution_count": 8,
   "metadata": {},
   "outputs": [
    {
     "name": "stdout",
     "output_type": "stream",
     "text": [
      "Stabilisation après 6 tupples.\n"
     ]
    },
    {
     "data": {
      "text/plain": [
       "True"
      ]
     },
     "execution_count": 8,
     "metadata": {},
     "output_type": "execute_result"
    }
   ],
   "source": [
    "s.stabilize()  # stable state reached after 6 topplings\n",
    "\n",
    "s == Sandpile([[3,0,1],[0,3,3],[1,3,3]])  # True"
   ]
  },
  {
   "cell_type": "markdown",
   "metadata": {},
   "source": [
    "b) Observer la stabilisation du tas de sable $21 \\times 21$ dont chaque case contient 2 grains, sauf celle du milieu qui en contient 100."
   ]
  },
  {
   "cell_type": "code",
   "execution_count": 9,
   "metadata": {},
   "outputs": [
    {
     "name": "stdout",
     "output_type": "stream",
     "text": [
      "Stabilisation après 33748 tupples.\n"
     ]
    },
    {
     "data": {
      "image/png": "[encoded data removed]",
      "text/plain": [
       "Graphics object consisting of 1 graphics primitive"
      ]
     },
     "execution_count": 9,
     "metadata": {},
     "output_type": "execute_result"
    }
   ],
   "source": [
    "s=Sandpile(ones_matrix(21))\n",
    "\n",
    "s.mat21(1000)\n",
    "\n",
    "s.stabilize()\n",
    "\n",
    "s.show()\n"
   ]
  },
  {
   "cell_type": "markdown",
   "metadata": {},
   "source": [
    "### 4. Tas stables\n",
    "\n",
    "Cette opération de stabilisation permet de définir une loi de composition interne : pour calculer $s + t$, on ajoute tous les grains de $t$ à $s$ case à case et on laisse le tas ainsi obtenu se stabiliser. Cela confère à l'ensemble des tas stables de format $n \\times n$ une structure de monoïde commutatif, le neutre étant le tas vide.\n",
    "\n",
    "**À faire**: Définir l'opérateur d'addition sur les tas de sable. À savoir : `a+b` en Python est équivalent à `a.__add__(b)`.\n",
    "\n",
    "Exemple :"
   ]
  },
  {
   "cell_type": "code",
   "execution_count": 10,
   "metadata": {},
   "outputs": [
    {
     "name": "stdout",
     "output_type": "stream",
     "text": [
      "Stabilisation après 29 tupples.\n"
     ]
    },
    {
     "data": {
      "image/png": "[encoded data removed]",
      "text/plain": [
       "Graphics object consisting of 1 graphics primitive"
      ]
     },
     "execution_count": 10,
     "metadata": {},
     "output_type": "execute_result"
    }
   ],
   "source": [
    "s = Sandpile([[1,1,1,0,1],[1,0,3,1,3],[0,2,2,2,1],[0,1,2,1,0],[3,0,0,1,0]])\n",
    "t = Sandpile([[1,0,2,0,3],[0,2,2,1,0],[3,1,2,1,1],[0,0,3,3,3],[3,1,3,1,3]])\n",
    "\n",
    "(s+t).show()  # stable state reached after 29 topplings"
   ]
  },
  {
   "cell_type": "markdown",
   "metadata": {},
   "source": [
    "![](sage1.png)"
   ]
  },
  {
   "cell_type": "markdown",
   "metadata": {},
   "source": [
    "### 5. Tas récurrents\n",
    "\n",
    "Parmi les tas stables, celui dont chaque case contient 3 grains est particulier, puisqu'il est impossible d'y ajouter quoi que ce soit (sauf le tas vide) sans créer d'éboulis. Les tas stables obtenus en ajoutant des grains à ce tas stable maximal sont appelés _récurrents_ ; en effet, on peut montrer qu'ils tendance à apparaître beaucoup plus souvent que ceux qui ne le sont pas. En symboles : les tas récurrents sont les tas de la forme $s_\\max + t$, où $s_\\max$ désigne le tas de sable maximal et $t$ n'importe quel tas.\n",
    "\n",
    "**Théorème** : L'ensemble des tas récurrents forme un monoïde commutatif pour la loi +.\n",
    "\n",
    "Ce qui est intéressant dans ce monoïde, c'est qu'il n'est pas tout à fait évident _a priori_ de dire qui en est le neutre ! En admettant le fait qu'il existe, on peut le déterminer de la façon suivante :\n",
    "\n",
    "Ce neutre $s_0$ s'écrit sous la forme $s_\\max + t$ où $t$ est à déterminer. Le tas maximal $s_\\max$ étant récurrent, on doit avoir en particulier $s_\\max + s_0 = s_\\max$, soit $s_\\max + (s_\\max + t) = s_\\max$.\n",
    "\n",
    "Cela permet de déterminer $t$ : c'est le tas qu'il faut ajouter à $s_\\max + s_\\max$ pour remplir chaque case à capacité maximale, _i.e._ le « complément à $s_\\max$ de $2 s_\\max$ ».\n",
    "\n",
    "Par ailleurs, on peut vérifier, une fois cette description obtenue, que le tas $s_0 = s_\\max + t$ défini ainsi est bien un neutre pour l'ensemble des tas récurrents.\n",
    "\n",
    "Par exemple : le neutre pour les tas récurrents $5 \\times 5$"
   ]
  },
  {
   "cell_type": "code",
   "execution_count": 11,
   "metadata": {},
   "outputs": [
    {
     "data": {
      "image/png": "[encoded data removed]",
      "text/plain": [
       "Graphics object consisting of 1 graphics primitive"
      ]
     },
     "execution_count": 11,
     "metadata": {},
     "output_type": "execute_result"
    }
   ],
   "source": [
    "s0 = Sandpile([[2,3,2,3,2],[3,2,1,2,3],[2,1,0,1,2],[3,2,1,2,3],[2,3,2,3,2]])\n",
    "s0.show()"
   ]
  },
  {
   "cell_type": "markdown",
   "metadata": {},
   "source": [
    "Vérifions avec un tas récurrent un peu quelconque :"
   ]
  },
  {
   "cell_type": "code",
   "execution_count": 12,
   "metadata": {},
   "outputs": [
    {
     "name": "stdout",
     "output_type": "stream",
     "text": [
      "Stabilisation après 305 tupples.\n"
     ]
    }
   ],
   "source": [
    "s = Sandpile( 5*[ 5*[3] ]) + Sandpile( [ [ randint(3,10) for i in [0..4] ] for j in [0..4] ] )"
   ]
  },
  {
   "cell_type": "code",
   "execution_count": 13,
   "metadata": {},
   "outputs": [
    {
     "name": "stdout",
     "output_type": "stream",
     "text": [
      "Stabilisation après 80 tupples.\n"
     ]
    },
    {
     "data": {
      "text/plain": [
       "True"
      ]
     },
     "execution_count": 13,
     "metadata": {},
     "output_type": "execute_result"
    }
   ],
   "source": [
    "s + s0 == s  # True"
   ]
  },
  {
   "cell_type": "markdown",
   "metadata": {},
   "source": [
    "**À faire** : Calculer et afficher graphiquement le neutre $s_0$ pour les tas récurrents $10 \\times 10$."
   ]
  },
  {
   "cell_type": "code",
   "execution_count": 18,
   "metadata": {
    "scrolled": true
   },
   "outputs": [
    {
     "name": "stdout",
     "output_type": "stream",
     "text": [
      "Stabilisation après 1832 tupples.\n",
      "Stabilisation après 744 tupples.\n"
     ]
    },
    {
     "data": {
      "image/png": "[encoded data removed]",
      "text/plain": [
       "Graphics object consisting of 1 graphics primitive"
      ]
     },
     "execution_count": 18,
     "metadata": {},
     "output_type": "execute_result"
    }
   ],
   "source": [
    "neutre = id_sandpile(10)\n",
    "neutre.show()"
   ]
  },
  {
   "cell_type": "markdown",
   "metadata": {},
   "source": [
    "### 6. Jolis tas\n",
    "\n",
    "Laissez libre court à votre imagination et générez de jolies images de tas stables (voire récurrents) sur des grilles un peu conséquentes !"
   ]
  },
  {
   "cell_type": "code",
   "execution_count": 40,
   "metadata": {},
   "outputs": [
    {
     "name": "stdout",
     "output_type": "stream",
     "text": [
      "Stabilisation après 18226 tupples.\n"
     ]
    }
   ],
   "source": [
    "mat1 = Matrix(500)\n",
    "mat1[250,250] = 1000\n",
    "\n",
    "s1 = Sandpile(mat1)\n",
    "s1.stabilize()"
   ]
  },
  {
   "cell_type": "code",
   "execution_count": 41,
   "metadata": {},
   "outputs": [
    {
     "data": {
      "image/png": "[encoded data removed]",
      "text/plain": [
       "Graphics object consisting of 1 graphics primitive"
      ]
     },
     "execution_count": 41,
     "metadata": {},
     "output_type": "execute_result"
    }
   ],
   "source": [
    "s1.show()"
   ]
  },
  {
   "cell_type": "markdown",
   "metadata": {},
   "source": [
    "On zoome sur la sphère !"
   ]
  },
  {
   "cell_type": "code",
   "execution_count": 46,
   "metadata": {},
   "outputs": [
    {
     "name": "stdout",
     "output_type": "stream",
     "text": [
      "Stabilisation après 464184 tupples.\n"
     ]
    }
   ],
   "source": [
    "mat2 = Matrix(50)\n",
    "mat2[25,25] = 5000\n",
    "\n",
    "s2 = Sandpile(mat1)\n",
    "s2.stabilize()"
   ]
  },
  {
   "cell_type": "code",
   "execution_count": 47,
   "metadata": {},
   "outputs": [
    {
     "data": {
      "image/png": "[encoded data removed]",
      "text/plain": [
       "Graphics object consisting of 1 graphics primitive"
      ]
     },
     "execution_count": 47,
     "metadata": {},
     "output_type": "execute_result"
    }
   ],
   "source": [
    "s2.show()"
   ]
  },
  {
   "cell_type": "code",
   "execution_count": null,
   "metadata": {},
   "outputs": [],
   "source": []
  }
 ],
 "metadata": {
  "interpreter": {
   "hash": "4e1d9a8909477db77738c33245c29c7265277ef753467dede8cf3f814cde494e"
  },
  "kernelspec": {
   "display_name": "SageMath 9.5",
   "language": "sage",
   "name": "sagemath"
  },
  "language_info": {
   "codemirror_mode": {
    "name": "ipython",
    "version": 3
   },
   "file_extension": ".py",
   "mimetype": "text/x-python",
   "name": "python",
   "nbconvert_exporter": "python",
   "pygments_lexer": "ipython3",
   "version": "3.10.2"
  }
 },
 "nbformat": 4,
 "nbformat_minor": 4
}
