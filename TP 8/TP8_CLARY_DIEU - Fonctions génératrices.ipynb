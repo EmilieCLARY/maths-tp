{
 "cells": [
  {
   "cell_type": "markdown",
   "metadata": {},
   "source": [
    "## TP8 &ndash; Fonctions génératrices\n",
    "\n",
    "Indiquez vos noms ici:\n",
    "\n",
    "- $ m_1 $ CLARY Emilie\n",
    "- $ m_2 $ DIEU Joachim\n",
    "\n",
    "On peut travailler dans Sage avec des séries de puissances aussi aisément qu'avec des polynômes; il suffit de déclarer notre envie de le faire."
   ]
  },
  {
   "cell_type": "code",
   "execution_count": 1,
   "metadata": {},
   "outputs": [],
   "source": [
    "R.<x> = PowerSeriesRing(QQ)  # anneau des séries entières à coefficients rationnels"
   ]
  },
  {
   "cell_type": "code",
   "execution_count": 2,
   "metadata": {},
   "outputs": [
    {
     "data": {
      "text/plain": [
       "<class 'sage.rings.power_series_poly.PowerSeries_poly'>"
      ]
     },
     "execution_count": 2,
     "metadata": {},
     "output_type": "execute_result"
    }
   ],
   "source": [
    "type(x)"
   ]
  },
  {
   "cell_type": "markdown",
   "metadata": {},
   "source": [
    "Dans les faits, on ne travaille jamais avec tous les termes d'une série mais plutôt avec sa troncature à un ordre donné (20 par défaut):"
   ]
  },
  {
   "cell_type": "code",
   "execution_count": 3,
   "metadata": {},
   "outputs": [
    {
     "data": {
      "text/plain": [
       "1 - x + x^2 - x^3 + x^4 - x^5 + x^6 - x^7 + x^8 - x^9 + x^10 - x^11 + x^12 - x^13 + x^14 - x^15 + x^16 - x^17 + x^18 - x^19 + O(x^20)"
      ]
     },
     "execution_count": 3,
     "metadata": {},
     "output_type": "execute_result"
    }
   ],
   "source": [
    "1/(1+x)"
   ]
  },
  {
   "cell_type": "markdown",
   "metadata": {},
   "source": [
    "mais on peut changer celui-ci à la baisse si on le souhaite:"
   ]
  },
  {
   "cell_type": "code",
   "execution_count": 4,
   "metadata": {},
   "outputs": [
    {
     "data": {
      "text/plain": [
       "1 - x + x^2 - x^3 + x^4 + O(x^5)"
      ]
     },
     "execution_count": 4,
     "metadata": {},
     "output_type": "execute_result"
    }
   ],
   "source": [
    "1/(1+x) + O(x^5)"
   ]
  },
  {
   "cell_type": "markdown",
   "metadata": {},
   "source": [
    "ou encore à la hausse (mais pour cela il faut augmenter la précision au niveau de l'anneau)."
   ]
  },
  {
   "cell_type": "code",
   "execution_count": 5,
   "metadata": {},
   "outputs": [
    {
     "data": {
      "text/plain": [
       "1 - x + x^2 - x^3 + x^4 - x^5 + x^6 - x^7 + x^8 - x^9 + x^10 - x^11 + x^12 - x^13 + x^14 - x^15 + x^16 - x^17 + x^18 - x^19 + O(x^20)"
      ]
     },
     "execution_count": 5,
     "metadata": {},
     "output_type": "execute_result"
    }
   ],
   "source": [
    "1/(1+x) + O(x^30)  # ne fait pas ce qu'on pourrait croire"
   ]
  },
  {
   "cell_type": "code",
   "execution_count": 6,
   "metadata": {},
   "outputs": [],
   "source": [
    "R.<x> = PowerSeriesRing(QQ,30)"
   ]
  },
  {
   "cell_type": "code",
   "execution_count": 7,
   "metadata": {},
   "outputs": [
    {
     "data": {
      "text/plain": [
       "1 - x + x^2 - x^3 + x^4 - x^5 + x^6 - x^7 + x^8 - x^9 + x^10 - x^11 + x^12 - x^13 + x^14 - x^15 + x^16 - x^17 + x^18 - x^19 + x^20 - x^21 + x^22 - x^23 + x^24 - x^25 + x^26 - x^27 + x^28 - x^29 + O(x^30)"
      ]
     },
     "execution_count": 7,
     "metadata": {},
     "output_type": "execute_result"
    }
   ],
   "source": [
    "1/(1+x)  # ok"
   ]
  },
  {
   "cell_type": "markdown",
   "metadata": {},
   "source": [
    "On peut effectuer toutes les opérations arithmétiques de base sur ces séries; et on peut passer d'une liste de coefficients à une série et vice-versa de la façon suivante."
   ]
  },
  {
   "cell_type": "code",
   "execution_count": 8,
   "metadata": {},
   "outputs": [
    {
     "data": {
      "text/plain": [
       "1 + 2*x + 3*x^2 + 4*x^3 + 5*x^4"
      ]
     },
     "execution_count": 8,
     "metadata": {},
     "output_type": "execute_result"
    }
   ],
   "source": [
    "f = R([1,2,3,4,5]); f"
   ]
  },
  {
   "cell_type": "code",
   "execution_count": 9,
   "metadata": {},
   "outputs": [
    {
     "data": {
      "text/plain": [
       "+Infinity"
      ]
     },
     "execution_count": 9,
     "metadata": {},
     "output_type": "execute_result"
    }
   ],
   "source": [
    "f.prec()"
   ]
  },
  {
   "cell_type": "markdown",
   "metadata": {},
   "source": [
    "Notez que la série considérée à l'instant n'est __pas__ tout à fait la transformée en $z$ de la suite $(1,2,3,4,5,0,0,\\ldots)$: pour cela il faudrait plutôt poser $x = 1/z$ et utiliser $z$ comme variable.\n",
    "\n",
    "Étant donné une suite $(a_n)_{n\\in\\mathbb{N}}$, on appelle $\\displaystyle f(x) = \\sum_{n=0}^\\infty a_n x^n$ la __fonction génératrice__ de la suite (sans trop se soucier ici des questions de convergence). Sa transformée en $z$ est $f(z^{-1})$ qui a de bonnes propriétés théoriques; pour le calcul numérique (comme ici) il est souvent plus simple de travailler directement avec $f(x)$.\n",
    "\n",
    "Voici par exemple la fonction génératrice d'une suite célèbre:"
   ]
  },
  {
   "cell_type": "code",
   "execution_count": 10,
   "metadata": {},
   "outputs": [
    {
     "data": {
      "text/plain": [
       "1 + x + 2*x^2 + 3*x^3 + 5*x^4 + 8*x^5 + 13*x^6 + 21*x^7 + 34*x^8 + 55*x^9 + 89*x^10 + 144*x^11 + 233*x^12 + 377*x^13 + 610*x^14 + 987*x^15 + 1597*x^16 + 2584*x^17 + 4181*x^18 + 6765*x^19 + O(x^20)"
      ]
     },
     "execution_count": 10,
     "metadata": {},
     "output_type": "execute_result"
    }
   ],
   "source": [
    "R.<x> = PowerSeriesRing(QQ)\n",
    "\n",
    "F = 1/(1 - x - x^2)  # z^2/(z^2 - z - 1)\n",
    "\n",
    "F"
   ]
  },
  {
   "cell_type": "markdown",
   "metadata": {},
   "source": [
    "La reconnaissez-vous ?"
   ]
  },
  {
   "cell_type": "markdown",
   "metadata": {},
   "source": [
    "## A) Partages\n",
    "\n",
    "À la maison j'ai 42 biscuits et deux garçons: le grand les mange par paquets de 3 et le petit par paquets de 2. De combien de façons peut-on répartir les 42 biscuits entre eux ?\n",
    "\n",
    "Si on formalise la question, il s'agit de compter le nombre de façons d'écrire $42 = 2 a + 3 b$, soit $x^{42} = (x^2)^a (x^3)^b$. Il s'agit donc du coefficient de $x^{42}$ dans l'expression\n",
    "\n",
    "$$ (1 + x^2 + x^4 + x^6 + \\cdots)(1 + x^3 + x^6 + x^9 + \\cdots) = \\sum_{a = 0}^\\infty (x^2)^a \\cdot \\sum_{b = 0}^\\infty (x^3)^b = \\frac{1}{1 - x^2} \\cdot \\frac{1}{1 - x^3}. $$"
   ]
  },
  {
   "cell_type": "code",
   "execution_count": 11,
   "metadata": {},
   "outputs": [
    {
     "data": {
      "text/plain": [
       "8"
      ]
     },
     "execution_count": 11,
     "metadata": {},
     "output_type": "execute_result"
    }
   ],
   "source": [
    "R.<x> = PowerSeriesRing(QQ,50)\n",
    "\n",
    "( 1/(1-x^2) * 1/(1-x^3) ).padded_list()[42]"
   ]
  },
  {
   "cell_type": "markdown",
   "metadata": {},
   "source": [
    "Il y a donc 8 façons de répartir les biscuits en tas de 2 ou 3 ; vérifions en énumérant les couples $(a,b)$ possibles :"
   ]
  },
  {
   "cell_type": "code",
   "execution_count": 12,
   "metadata": {},
   "outputs": [
    {
     "name": "stdout",
     "output_type": "stream",
     "text": [
      "0 14\n",
      "3 12\n",
      "6 10\n",
      "9 8\n",
      "12 6\n",
      "15 4\n",
      "18 2\n",
      "21 0\n"
     ]
    }
   ],
   "source": [
    "for a in range(22):\n",
    "    if (42 - 2*a) % 3 == 0:\n",
    "        b = (42 - 2*a) / 3\n",
    "        print (a,b)"
   ]
  },
  {
   "cell_type": "markdown",
   "metadata": {},
   "source": [
    "Ce qui est bien, c'est que la méthode utilisant les séries génératrices se généralise aisément: le nombre de façons de répartir $n$ objets en $k$ tas par paquets de tailles respectives $m_1, \\ldots, m_k$ est le coefficient de $x^n$ dans la fonction génératrice\n",
    "\n",
    "$$ \\prod_{i = 1}^k \\frac{1}{1 - x^{m_i}}. $$\n",
    "\n",
    "En d'autres termes: le coefficient de $x^n$ dans cette expression est le nombre de $k$-uplets $(a_1, \\ldots, a_k)$ pour lesquels $\\sum_{i=1}^k m_i a_i = n$.\n",
    "\n",
    "__Question 1__. En utilisant cette méthode, déterminer le nombres de façons de répartir $10$ biscuits entre $2$ enfants (par paquets de $1$):\n",
    "\n",
    "a) si on suppose qu'on les distribue tous ;\n",
    "\n",
    "b) si on se permet d'en manger quelques-uns (ce qui rajoute un troisième tas au partage).\n",
    "\n",
    "Les réponses vous semblent-elles cohérentes ? (comparez à la façon dont vous traiteriez cette question en TD)."
   ]
  },
  {
   "cell_type": "markdown",
   "metadata": {},
   "source": [
    "#### Combien de façon de répartir 10 biscuits entre 2 personnes ?\n",
    "\n",
    "Admettons qu'on en donne un nombre b (forcément compris entre 0 et 10) à la personne A. Il en reste donc (10-b) pour la personne B.\n",
    "\n",
    "On fait donc 2 \"tas\" de b et b-10 biscuits."
   ]
  },
  {
   "cell_type": "code",
   "execution_count": 13,
   "metadata": {},
   "outputs": [
    {
     "name": "stdout",
     "output_type": "stream",
     "text": [
      "Si on les ditribue tous aux 2 enfants, on a 11 répartitions possibles.\n"
     ]
    }
   ],
   "source": [
    "#Question a)\n",
    "\n",
    "reset()\n",
    "\n",
    "R.<x> = PowerSeriesRing(QQ,50)\n",
    "\n",
    "print(\"Si on les ditribue tous aux 2 enfants, on a\",(1/(1-x) * 1/(1-x)).padded_list()[10],\"répartitions possibles.\")"
   ]
  },
  {
   "cell_type": "markdown",
   "metadata": {},
   "source": [
    "Pour répartir 10 biscuits entre trois personnes, on rajoute donc une personne C :"
   ]
  },
  {
   "cell_type": "code",
   "execution_count": 14,
   "metadata": {
    "scrolled": true
   },
   "outputs": [
    {
     "name": "stdout",
     "output_type": "stream",
     "text": [
      "Si on les distribue pas tous aux 2 enfants, on a 66 répartitions possibles.\n"
     ]
    }
   ],
   "source": [
    "#Question b)\n",
    "reset()\n",
    "\n",
    "R.<x> = PowerSeriesRing(QQ,50)\n",
    "\n",
    "print(\"Si on les distribue pas tous aux 2 enfants, on a\",(1/(1-x) * 1/(1-x) * 1/(1-x)).padded_list()[10], \"répartitions possibles.\")"
   ]
  },
  {
   "cell_type": "markdown",
   "metadata": {},
   "source": [
    "On utilise donc des séparateurs, on étale les biscuits puis on met 2 séparateurs pour réaliser 3 \"tas\"."
   ]
  },
  {
   "cell_type": "markdown",
   "metadata": {},
   "source": [
    "On a donc les 10 biscuits + les 2 séparateurs, cela fait 12 \"cases\" au total."
   ]
  },
  {
   "cell_type": "code",
   "execution_count": 15,
   "metadata": {},
   "outputs": [
    {
     "name": "stdout",
     "output_type": "stream",
     "text": [
      "|_| |_| |_| |_| |_| |_| |_| |_| |_| |_| |_| |_|\n"
     ]
    }
   ],
   "source": [
    "print(\"|_| |_| |_| |_| |_| |_| |_| |_| |_| |_| |_| |_|\")"
   ]
  },
  {
   "cell_type": "markdown",
   "metadata": {},
   "source": [
    "On réalise donc la distribution (1 exemple) :"
   ]
  },
  {
   "cell_type": "code",
   "execution_count": 16,
   "metadata": {},
   "outputs": [
    {
     "name": "stdout",
     "output_type": "stream",
     "text": [
      "|B| |B| |S| |B| |B| |B| |B| |S| |B| |B| |B| |B|\n"
     ]
    }
   ],
   "source": [
    "print(\"|B| |B| |S| |B| |B| |B| |B| |S| |B| |B| |B| |B|\")"
   ]
  },
  {
   "cell_type": "markdown",
   "metadata": {},
   "source": [
    "On peut relier ça à la fonction binomiale car :"
   ]
  },
  {
   "cell_type": "markdown",
   "metadata": {},
   "source": [
    "$\\frac{1}{1-x}*\\frac{1}{1-x}*\\frac{1}{1-x} = \\frac{1}{(1-x)^p} = \\sum_{n=0}^\\infty \\binom{n+p}{p}x^n$\n"
   ]
  },
  {
   "cell_type": "markdown",
   "metadata": {},
   "source": [
    "Avec n le nombre de biscuits et p le nombre de séparateurs, on a :"
   ]
  },
  {
   "cell_type": "markdown",
   "metadata": {},
   "source": [
    "$\\binom{n+p}{p} = \\binom{n+p}{(n+p)-p}=\\binom{n+p}{n}$"
   ]
  },
  {
   "cell_type": "code",
   "execution_count": 17,
   "metadata": {},
   "outputs": [
    {
     "data": {
      "text/plain": [
       "66"
      ]
     },
     "execution_count": 17,
     "metadata": {},
     "output_type": "execute_result"
    }
   ],
   "source": [
    "reset()\n",
    "\n",
    "binomial(12, 2)"
   ]
  },
  {
   "cell_type": "markdown",
   "metadata": {},
   "source": [
    "On voit bien qu'on retrouve le même résultat pour le binomiale de 2"
   ]
  },
  {
   "cell_type": "markdown",
   "metadata": {},
   "source": [
    "__Question 2__. De combien de façons peut-on rendre 1,47 € en monnaie ?"
   ]
  },
  {
   "cell_type": "markdown",
   "metadata": {},
   "source": [
    "Il faut d'abord définir les pièces de monnaie et les billets."
   ]
  },
  {
   "cell_type": "code",
   "execution_count": 35,
   "metadata": {},
   "outputs": [
    {
     "name": "stdout",
     "output_type": "stream",
     "text": [
      "On a 20116 façons de rendre 1€47 en monnaie.\n"
     ]
    }
   ],
   "source": [
    "reset()\n",
    "\n",
    "R.<x> = PowerSeriesRing(QQ,200)\n",
    "\n",
    "piece1 =  1/(1-x)    # 1 centime\n",
    "piece2 = 1/(1-x^2)     # 2 centimes\n",
    "billet5 = 1/(1-x^5)     # 5 centimes\n",
    "billet10 = 1/(1-x^10)   # 10 centimes\n",
    "billet20 = 1/(1-x^20)   # 20 centimes\n",
    "billet50 = 1/(1-x^50)   # 50 centimes\n",
    "billet100 = 1/(1-x^100) # 1 euro\n",
    "\n",
    "print(\"On a\",( piece1 * piece2 * billet5 * billet10 * billet20 * billet50 * billet100).padded_list()[147], \"façons de rendre 1€47 en monnaie.\")"
   ]
  },
  {
   "cell_type": "markdown",
   "metadata": {},
   "source": [
    "__Question 3__. De combien de façons peut-on écrire $20$ comme la somme d'entiers strictement positifs ? Distinguer selon que l'on tienne compte de l'ordre des termes ou pas en prenant soin d'expliquer votre démarche."
   ]
  },
  {
   "cell_type": "markdown",
   "metadata": {},
   "source": [
    "On commence sans tenir compte de l'ordre des termes :"
   ]
  },
  {
   "cell_type": "code",
   "execution_count": 19,
   "metadata": {},
   "outputs": [
    {
     "name": "stdout",
     "output_type": "stream",
     "text": [
      "Sans tenir compte de l'ordre, on a 627 possibilités d'écriture.\n"
     ]
    }
   ],
   "source": [
    "reset()\n",
    "R.<x> = PowerSeriesRing(QQ,200)\n",
    "\n",
    "produit = 1\n",
    "\n",
    "for i in range (1,21) :\n",
    "    produit *= 1/(1 - x^i)\n",
    "    \n",
    "print(\"Sans tenir compte de l'ordre, on a\", produit.padded_list()[20], \"possibilités d'écriture.\")"
   ]
  },
  {
   "cell_type": "markdown",
   "metadata": {},
   "source": [
    "On fait maintenant en tenant compte de l'ordre :"
   ]
  },
  {
   "cell_type": "code",
   "execution_count": 20,
   "metadata": {},
   "outputs": [
    {
     "name": "stdout",
     "output_type": "stream",
     "text": [
      "En tenant compte de l'ordre, on a 524288 possibilités d'écriture.\n"
     ]
    }
   ],
   "source": [
    "reset()\n",
    "R.<x> = PowerSeriesRing(QQ,200)\n",
    "\n",
    "somme = 0\n",
    "\n",
    "for i in range (1,21) :\n",
    "    somme += (x/(1 - x))^i\n",
    "    \n",
    "print(\"En tenant compte de l'ordre, on a\", somme.padded_list()[20], \"possibilités d'écriture.\")"
   ]
  },
  {
   "cell_type": "markdown",
   "metadata": {},
   "source": [
    "## B) Parenthésages balancés\n",
    "\n",
    "On appelle _mot de Dyck_ toute chaîne de caractères ne comportant que des ( et des ) et représentant une expression bien balancée (toute parenthèse ouvrante finira par se refermer un peu plus loin ; et on ne peut pas refermer une paire de parenthèses avant de l'avoir ouverte).\n",
    "\n",
    "__Question 1__. Écrire une fonction récursive __dyck($n$)__ renvoyant la liste de tous les mots de Dyck de longueur $2n$ (donc comportant $n$ paires de parenthèses). Donner la liste des 42 mots de Dyck de longueur 10."
   ]
  },
  {
   "cell_type": "markdown",
   "metadata": {},
   "source": [
    "### Fonction prise à un autre binôme de la classe afin de pouvoir continuer l'exercice."
   ]
  },
  {
   "cell_type": "code",
   "execution_count": 33,
   "metadata": {},
   "outputs": [
    {
     "name": "stdout",
     "output_type": "stream",
     "text": [
      "Liste des 42 mots de longueur 10.\n"
     ]
    },
    {
     "data": {
      "text/plain": [
       "['()()()()()',\n",
       " '()()()(())',\n",
       " '()()(())()',\n",
       " '()()(()())',\n",
       " '()()((()))',\n",
       " '()(())()()',\n",
       " '()(())(())',\n",
       " '()(()())()',\n",
       " '()((()))()',\n",
       " '()(()()())',\n",
       " '()(()(()))',\n",
       " '()((())())',\n",
       " '()((()()))',\n",
       " '()(((())))',\n",
       " '(())()()()',\n",
       " '(())()(())',\n",
       " '(())(())()',\n",
       " '(())(()())',\n",
       " '(())((()))',\n",
       " '(()())()()',\n",
       " '(()())(())',\n",
       " '((()))()()',\n",
       " '((()))(())',\n",
       " '(()()())()',\n",
       " '(()(()))()',\n",
       " '((())())()',\n",
       " '((()()))()',\n",
       " '(((())))()',\n",
       " '(()()()())',\n",
       " '(()()(()))',\n",
       " '(()(())())',\n",
       " '(()(()()))',\n",
       " '(()((())))',\n",
       " '((())()())',\n",
       " '((())(()))',\n",
       " '((()())())',\n",
       " '(((()))())',\n",
       " '((()()()))',\n",
       " '((()(())))',\n",
       " '(((())()))',\n",
       " '(((()())))',\n",
       " '((((()))))']"
      ]
     },
     "execution_count": 33,
     "metadata": {},
     "output_type": "execute_result"
    }
   ],
   "source": [
    "reset()\n",
    "\n",
    "# on considère qu'un mot de dyck est toujours divisible en deux : partie de gauche + partie de droite\n",
    "\n",
    "def dyck(n):\n",
    "    if (n <= 0):         # premier cas particulier\n",
    "        return ['']\n",
    "    \n",
    "    motsDyck = []\n",
    "    if (n >= 1):\n",
    "        for i in range(n):              \n",
    "            partieG = copy(dyck(i))     \n",
    "            partieD = copy(dyck(n-1 - i))                 \n",
    "            for elementG in partieG :\n",
    "                for elementD in partieD:\n",
    "                   motsDyck.append('(' + elementG + ')' + elementD) \n",
    "                    \n",
    "    return motsDyck\n",
    "\n",
    "print(\"Liste des 42 mots de longueur 10.\")\n",
    "\n",
    "dyck(5)\n"
   ]
  },
  {
   "cell_type": "markdown",
   "metadata": {},
   "source": [
    "__Question 2__. La longueur $C_n$ de la liste renvoyée par __dyck($n$)__ satisfait l'équation de récurrence\n",
    "\n",
    "$$ C_{n+1} = \\sum_{k=0}^n C_k C_{n-k}. $$\n",
    "\n",
    "a) Vérifier que c'est bien le cas pour $n \\leq 10$ en utilisant votre fonction de la question précédente.\n",
    "\n",
    "b) Utiliser cette récurrence pour obtenir les valeurs de $C_n$ pour $n \\in [\\![ 0, 100 ] \\! ]$ afin d'observer graphiquement l'allure des premiers termes de la suite."
   ]
  },
  {
   "cell_type": "code",
   "execution_count": 34,
   "metadata": {},
   "outputs": [
    {
     "data": {
      "text/plain": [
       "['()()()()()',\n",
       " '()()()(())',\n",
       " '()()(())()',\n",
       " '()()(()())',\n",
       " '()()((()))',\n",
       " '()(())()()',\n",
       " '()(())(())',\n",
       " '()(()())()',\n",
       " '()((()))()',\n",
       " '()(()()())',\n",
       " '()(()(()))',\n",
       " '()((())())',\n",
       " '()((()()))',\n",
       " '()(((())))',\n",
       " '(())()()()',\n",
       " '(())()(())',\n",
       " '(())(())()',\n",
       " '(())(()())',\n",
       " '(())((()))',\n",
       " '(()())()()',\n",
       " '(()())(())',\n",
       " '((()))()()',\n",
       " '((()))(())',\n",
       " '(()()())()',\n",
       " '(()(()))()',\n",
       " '((())())()',\n",
       " '((()()))()',\n",
       " '(((())))()',\n",
       " '(()()()())',\n",
       " '(()()(()))',\n",
       " '(()(())())',\n",
       " '(()(()()))',\n",
       " '(()((())))',\n",
       " '((())()())',\n",
       " '((())(()))',\n",
       " '((()())())',\n",
       " '(((()))())',\n",
       " '((()()()))',\n",
       " '((()(())))',\n",
       " '(((())()))',\n",
       " '(((()())))',\n",
       " '((((()))))']"
      ]
     },
     "execution_count": 34,
     "metadata": {},
     "output_type": "execute_result"
    }
   ],
   "source": [
    "#a)\n",
    "\n",
    "dyck(5)"
   ]
  },
  {
   "cell_type": "code",
   "execution_count": 36,
   "metadata": {},
   "outputs": [
    {
     "data": {
      "image/png": "[encoded data removed]",
      "text/plain": [
       "Graphics object consisting of 1 graphics primitive"
      ]
     },
     "execution_count": 36,
     "metadata": {},
     "output_type": "execute_result"
    }
   ],
   "source": [
    "#b)\n",
    "\n",
    "def Cn(n):\n",
    "    C2 = []\n",
    "    \n",
    "    for a in range(n):\n",
    "        if (a <= 0):\n",
    "            somme = 1\n",
    "            \n",
    "        else:\n",
    "            somme = 0\n",
    "            for k in range(a):\n",
    "                somme += C2[k] * C2[a - k - 1]\n",
    "        C2.append(somme)\n",
    "    return C2\n",
    "\n",
    "list_plot(Cn(100), color='blue')"
   ]
  },
  {
   "cell_type": "markdown",
   "metadata": {},
   "source": [
    "__Question 3__. Confirmer vos valeurs trouvées à la question précédente avec les 101 premiers coefficients de la fonction génératrice\n",
    "\n",
    "$$ C(x) = \\sum_{n=0}^\\infty C_n x^n = \\frac{1 - \\sqrt{1 - 4x}}{2x}. $$"
   ]
  },
  {
   "cell_type": "code",
   "execution_count": 30,
   "metadata": {},
   "outputs": [
    {
     "name": "stdout",
     "output_type": "stream",
     "text": [
      "Valeurs de Cn pour n appartenant de 0 à 100 inclus :\n"
     ]
    },
    {
     "data": {
      "text/plain": [
       "[1,\n",
       " 1,\n",
       " 2,\n",
       " 5,\n",
       " 14,\n",
       " 42,\n",
       " 132,\n",
       " 429,\n",
       " 1430,\n",
       " 4862,\n",
       " 16796,\n",
       " 58786,\n",
       " 208012,\n",
       " 742900,\n",
       " 2674440,\n",
       " 9694845,\n",
       " 35357670,\n",
       " 129644790,\n",
       " 477638700,\n",
       " 1767263190,\n",
       " 6564120420,\n",
       " 24466267020,\n",
       " 91482563640,\n",
       " 343059613650,\n",
       " 1289904147324,\n",
       " 4861946401452,\n",
       " 18367353072152,\n",
       " 69533550916004,\n",
       " 263747951750360,\n",
       " 1002242216651368,\n",
       " 3814986502092304,\n",
       " 14544636039226909,\n",
       " 55534064877048198,\n",
       " 212336130412243110,\n",
       " 812944042149730764,\n",
       " 3116285494907301262,\n",
       " 11959798385860453492,\n",
       " 45950804324621742364,\n",
       " 176733862787006701400,\n",
       " 680425371729975800390,\n",
       " 2622127042276492108820,\n",
       " 10113918591637898134020,\n",
       " 39044429911904443959240,\n",
       " 150853479205085351660700,\n",
       " 583300119592996693088040,\n",
       " 2257117854077248073253720,\n",
       " 8740328711533173390046320,\n",
       " 33868773757191046886429490,\n",
       " 131327898242169365477991900,\n",
       " 509552245179617138054608572,\n",
       " 1978261657756160653623774456,\n",
       " 7684785670514316385230816156,\n",
       " 29869166945772625950142417512,\n",
       " 116157871455782434250553845880,\n",
       " 451959718027953471447609509424,\n",
       " 1759414616608818870992479875972,\n",
       " 6852456927844873497549658464312,\n",
       " 26700952856774851904245220912664,\n",
       " 104088460289122304033498318812080,\n",
       " 405944995127576985730643443367112,\n",
       " 1583850964596120042686772779038896,\n",
       " 6182127958584855650487080847216336,\n",
       " 24139737743045626825711458546273312,\n",
       " 94295850558771979787935384946380125,\n",
       " 368479169875816659479009042713546950,\n",
       " 1440418573150919668872489894243865350,\n",
       " 5632681584560312734993915705849145100,\n",
       " 22033725021956517463358552614056949950,\n",
       " 86218923998960285726185640663701108500,\n",
       " 337485502510215975556783793455058624700,\n",
       " 1321422108420282270489942177190229544600,\n",
       " 5175569924646105559418940193995065716350,\n",
       " 20276890389709399862928998568254641025700,\n",
       " 79463489365077377841208237632349268884500,\n",
       " 311496878311103321137536291518809134027240,\n",
       " 1221395654430378811828760722007962130791020,\n",
       " 4790408930363303911328386208394864461024520,\n",
       " 18793142726809884575211361279087545193250040,\n",
       " 73745243611532458459690151854647329239335600,\n",
       " 289450081175264899454283846029490767264392230,\n",
       " 1136359577947336271931632877004667456667613940,\n",
       " 4462290049988320482463241297506133183499654740,\n",
       " 17526585015616776834735140517915655636396234280,\n",
       " 68854441132780194707888052034668647142985206100,\n",
       " 270557451039395118028642463289168566420671280440,\n",
       " 1063353702922273835973036658043476458723103404520,\n",
       " 4180080073556524734514695828170907458428751314320,\n",
       " 16435314834665426797069144960762886143367590394940,\n",
       " 64633260585762914370496637486146181462681535261000,\n",
       " 254224158304000796523953440778841647086547372026600,\n",
       " 1000134600800354781929399250536541864362461089950800,\n",
       " 3935312233584004685417853572763349509774031680023800,\n",
       " 15487357822491889407128326963778343232013931127835600,\n",
       " 60960876535340415751462563580829648891969728907438000,\n",
       " 239993345518077005168915776623476723006280827488229600,\n",
       " 944973797977428207852605870454939596837230758234904050,\n",
       " 3721443204405954385563870541379246659709506697378694300,\n",
       " 14657929356129575437016877846657032761712954950899755100,\n",
       " 57743358069601357782187700608042856334020731624756611000]"
      ]
     },
     "execution_count": 30,
     "metadata": {},
     "output_type": "execute_result"
    }
   ],
   "source": [
    "R.<x> = PowerSeriesRing(QQ, 100)\n",
    "\n",
    "print(\"Valeurs de Cn pour n appartenant de 0 à 100 inclus :\")\n",
    "((1 - sqrt(1 - 4*x)) / (2*x)).padded_list()"
   ]
  }
 ],
 "metadata": {
  "kernelspec": {
   "display_name": "SageMath 9.4",
   "language": "sage",
   "name": "sagemath"
  },
  "language_info": {
   "codemirror_mode": {
    "name": "ipython",
    "version": 3
   },
   "file_extension": ".py",
   "mimetype": "text/x-python",
   "name": "sage",
   "nbconvert_exporter": "python",
   "pygments_lexer": "ipython3",
   "version": "3.10.1"
  }
 },
 "nbformat": 4,
 "nbformat_minor": 2
}
