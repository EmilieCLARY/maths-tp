{
 "cells": [
  {
   "cell_type": "markdown",
   "id": "067914a0",
   "metadata": {},
   "source": [
    "# TP 7 - Parties\n",
    "\n",
    "- $m_1$ : CLARY Emilie\n",
    "- $m_2$ : DIEU Joachim\n"
   ]
  },
  {
   "cell_type": "markdown",
   "id": "423cd228",
   "metadata": {},
   "source": [
    "# Question 1"
   ]
  },
  {
   "cell_type": "markdown",
   "id": "046bc150",
   "metadata": {},
   "source": [
    "#### a) Écrire une fonction récursive suites(n) qui renvoie la liste de toutes les suites binaires de taille n (sous forme de tuples)."
   ]
  },
  {
   "cell_type": "code",
   "execution_count": 87,
   "id": "6cb2945f",
   "metadata": {},
   "outputs": [],
   "source": [
    "def suites(n) :\n",
    "    if(n == 0) : # récursivité : condition\n",
    "        return []\n",
    "    \n",
    "    if(n == 1) : # liste vide\n",
    "        return [[0],[1]]\n",
    "    \n",
    "    liste = suites(n-1) # appel de la récursivité pour les premières listes\n",
    "    list_ = []\n",
    "    \n",
    "    for i in range(0, len(liste)) :\n",
    "        element = liste[i].copy()\n",
    "        for j in range (0,2) :\n",
    "            NewElement = element.copy()\n",
    "            NewElement.append(j)\n",
    "            list_.append(NewElement)\n",
    "        \n",
    "    return list_"
   ]
  },
  {
   "cell_type": "code",
   "execution_count": 88,
   "id": "41c70336",
   "metadata": {},
   "outputs": [
    {
     "data": {
      "text/plain": [
       "[[0, 0, 0],\n",
       " [0, 0, 1],\n",
       " [0, 1, 0],\n",
       " [0, 1, 1],\n",
       " [1, 0, 0],\n",
       " [1, 0, 1],\n",
       " [1, 1, 0],\n",
       " [1, 1, 1]]"
      ]
     },
     "execution_count": 88,
     "metadata": {},
     "output_type": "execute_result"
    }
   ],
   "source": [
    "suites(3)"
   ]
  },
  {
   "cell_type": "markdown",
   "id": "138180b0",
   "metadata": {},
   "source": [
    "##### b) Discutez : que votre implémentation vous apprend-t-elle sur le cardinal de suites(n) ?"
   ]
  },
  {
   "cell_type": "markdown",
   "id": "34e0b77b",
   "metadata": {},
   "source": [
    "On voit ici que le cardinal vaut $2^n$."
   ]
  },
  {
   "cell_type": "markdown",
   "id": "e3e53c57",
   "metadata": {},
   "source": [
    "# Question 2"
   ]
  },
  {
   "cell_type": "markdown",
   "id": "5645573e",
   "metadata": {},
   "source": [
    "#### a) Concevoir une fonction récursive parties(E) qui prend en argument un ensemble E et renvoie une liste de ses parties."
   ]
  },
  {
   "cell_type": "code",
   "execution_count": 1,
   "id": "213389d3",
   "metadata": {},
   "outputs": [
    {
     "data": {
      "text/plain": [
       "[[], [1], [2], [1, 2], [3], [1, 3], [2, 3], [1, 2, 3]]"
      ]
     },
     "execution_count": 1,
     "metadata": {},
     "output_type": "execute_result"
    }
   ],
   "source": [
    "def parties(E) :\n",
    "    n = len(E)\n",
    "    \n",
    "    if(n == 0) : # Si l'ensemble E donné en paramètre est l'ensemble vide\n",
    "        return [[]]\n",
    "   \n",
    "    old = E.copy()     #On fait une copie de E\n",
    "    old.pop() # On enlève le dernier élément\n",
    "    list_ = parties(old) # Et enfin on appelle la fonction récursive pour avoir les premiers cas\n",
    "    \n",
    "    for i in range (0, len(list_)) :\n",
    "        NewElement = list_[i].copy()\n",
    "        NewElement.append(n)\n",
    "        list_.append(NewElement) # On rajoute l'élément à la liste\n",
    "        \n",
    "    return list_\n",
    "\n",
    "parties([1, 2, 3])"
   ]
  },
  {
   "cell_type": "markdown",
   "id": "59084009",
   "metadata": {},
   "source": [
    "#### b) Exploiter la bijection de P(E) avec {0, 1}^E via les fonctions caractéristiques pour proposer une autre implémentation de parties(E) s’appuyant sur votre travail à la question 1."
   ]
  },
  {
   "cell_type": "code",
   "execution_count": 90,
   "id": "09b6d5e6",
   "metadata": {},
   "outputs": [
    {
     "data": {
      "text/plain": [
       "[[], [3], [2], [2, 3], [1], [1, 3], [1, 2], [1, 2, 3]]"
      ]
     },
     "execution_count": 90,
     "metadata": {},
     "output_type": "execute_result"
    }
   ],
   "source": [
    "def partie(f, E) :\n",
    "    \n",
    "    return [E[x] for x in range(len(E)) if f[x]]\n",
    "\n",
    "[partie(f, [1,2,3]) for f in suites(3)]"
   ]
  },
  {
   "cell_type": "markdown",
   "id": "60ba8bfc",
   "metadata": {},
   "source": [
    "#### Quelles sont les similitudes et les différences entre les approches a) et b) ?"
   ]
  },
  {
   "cell_type": "markdown",
   "id": "2eec0355",
   "metadata": {},
   "source": [
    "On retrouve bien le même résultat avec l'application de x, mais le sens de traitement diffère.\n"
   ]
  },
  {
   "cell_type": "markdown",
   "id": "a6b576aa",
   "metadata": {},
   "source": [
    "# Question 3"
   ]
  },
  {
   "cell_type": "markdown",
   "id": "ebc72ed1",
   "metadata": {},
   "source": [
    "#### a) Générer l’ensemble parties_taille(k, E) des parties de taille k d’un ensemble E en sélectionnant parmi parties(E) celles qui ont la taille requise."
   ]
  },
  {
   "cell_type": "code",
   "execution_count": 91,
   "id": "629f9657",
   "metadata": {},
   "outputs": [],
   "source": [
    "# La fonction sert à retourner toutes les possibilités de parties d'un ensemble par la taille et l'ensemble passés en paramètre.\n",
    "\n",
    "def parties_tailles(k,E):\n",
    "    \n",
    "    list_ = []\n",
    "    \n",
    "    for nbr_elem in parties(E) :\n",
    "        if (len(nbr_elem) == k) :\n",
    "            list_.append(nbr_elem)\n",
    "        \n",
    "    return list_"
   ]
  },
  {
   "cell_type": "code",
   "execution_count": 92,
   "id": "740d1744",
   "metadata": {},
   "outputs": [
    {
     "data": {
      "text/html": [
       "<html>\\[\\newcommand{\\Bold}[1]{\\mathbf{#1}}\\verb|Exemple|\\phantom{\\verb!x!}\\verb|pour|\\phantom{\\verb!x!}\\verb|k|\\phantom{\\verb!x!}\\verb|=|\\phantom{\\verb!x!}\\verb|2|\\phantom{\\verb!x!}\\verb|et|\\phantom{\\verb!x!}\\verb|un|\\phantom{\\verb!x!}\\verb|ensemble|\\phantom{\\verb!x!}\\verb|contenant|\\phantom{\\verb!x!}\\verb|les|\\phantom{\\verb!x!}\\verb|entiers|\\phantom{\\verb!x!}\\verb|allant|\\phantom{\\verb!x!}\\verb|de|\\phantom{\\verb!x!}\\verb|1|\\phantom{\\verb!x!}\\verb|à|\\phantom{\\verb!x!}\\verb|4|\\]</html>"
      ],
      "text/latex": [
       "$$\\newcommand{\\Bold}[1]{\\mathbf{#1}}\\verb|Exemple|\\phantom{\\verb!x!}\\verb|pour|\\phantom{\\verb!x!}\\verb|k|\\phantom{\\verb!x!}\\verb|=|\\phantom{\\verb!x!}\\verb|2|\\phantom{\\verb!x!}\\verb|et|\\phantom{\\verb!x!}\\verb|un|\\phantom{\\verb!x!}\\verb|ensemble|\\phantom{\\verb!x!}\\verb|contenant|\\phantom{\\verb!x!}\\verb|les|\\phantom{\\verb!x!}\\verb|entiers|\\phantom{\\verb!x!}\\verb|allant|\\phantom{\\verb!x!}\\verb|de|\\phantom{\\verb!x!}\\verb|1|\\phantom{\\verb!x!}\\verb|à|\\phantom{\\verb!x!}\\verb|4|$$"
      ],
      "text/plain": [
       "'Exemple pour k = 2 et un ensemble contenant les entiers allant de 1 à 4'"
      ]
     },
     "metadata": {},
     "output_type": "display_data"
    },
    {
     "data": {
      "text/plain": [
       "[[1, 2], [1, 3], [2, 3], [1, 4], [2, 4], [3, 4]]"
      ]
     },
     "execution_count": 92,
     "metadata": {},
     "output_type": "execute_result"
    }
   ],
   "source": [
    "show(\"Exemple pour k = 2 et un ensemble contenant les entiers allant de 1 à 4\")\n",
    "parties_tailles(2,[1,2,3,4])"
   ]
  },
  {
   "cell_type": "markdown",
   "id": "b586d9a3",
   "metadata": {},
   "source": [
    "#### b) Exploiter l’identité combinatoire pour obtenir maintenant une implémentation récursive de parties_taille(k, E)."
   ]
  },
  {
   "cell_type": "markdown",
   "id": "921b6d2e",
   "metadata": {},
   "source": [
    "Nous n'avons pas réussi à traiter cette question, nous ne nous souvenons pas avoir évoqué cette partie en cours."
   ]
  },
  {
   "cell_type": "markdown",
   "id": "7f75d906",
   "metadata": {},
   "source": [
    "#### Quels sont les avantages et inconvénients des approches a) et b) cette fois ?"
   ]
  },
  {
   "cell_type": "code",
   "execution_count": null,
   "id": "24b91110",
   "metadata": {},
   "outputs": [],
   "source": []
  }
 ],
 "metadata": {
  "kernelspec": {
   "display_name": "SageMath 9.4",
   "language": "sage",
   "name": "sagemath"
  },
  "language_info": {
   "codemirror_mode": {
    "name": "ipython",
    "version": 3
   },
   "file_extension": ".py",
   "mimetype": "text/x-python",
   "name": "python",
   "nbconvert_exporter": "python",
   "pygments_lexer": "ipython3",
   "version": "3.10.2"
  }
 },
 "nbformat": 4,
 "nbformat_minor": 5
}
