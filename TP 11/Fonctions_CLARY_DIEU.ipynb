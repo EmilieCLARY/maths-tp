{
 "cells": [
  {
   "cell_type": "markdown",
   "metadata": {},
   "source": [
    "# Fonctions\n",
    "\n",
    "Inscrivez tout d'abord <span style=\"color: red\">CLARY Emilie, DIEU Joachim</span>.\n",
    "\n",
    "Nous allons dans cette séance de travaux pratiques manipuler des fonctions entre ensembles finis, qu'on peut implémenter à l'aide de tableaux associatifs, appelés <a href=\"https://docs.python.org/2/tutorial/datastructures.html#dictionaries\">dictionnaires</a> en Python (l'équivalent des maps de C++). Ici une fonction de l'ensemble $\\{ a, b, c, d\\}$ vers $\\{1,2,3\\}$:"
   ]
  },
  {
   "cell_type": "code",
   "execution_count": 13,
   "metadata": {},
   "outputs": [],
   "source": [
    "f = { \"a\": 1, \"b\": 2, \"c\": 7, \"d\": 3 }"
   ]
  },
  {
   "cell_type": "markdown",
   "metadata": {},
   "source": [
    "On évalue la fonction sur un élément du domaine à l'aide de l'opérateur crochets:"
   ]
  },
  {
   "cell_type": "code",
   "execution_count": 14,
   "metadata": {},
   "outputs": [
    {
     "data": {
      "text/plain": [
       "2"
      ]
     },
     "execution_count": 14,
     "metadata": {},
     "output_type": "execute_result"
    }
   ],
   "source": [
    "f[\"b\"]"
   ]
  },
  {
   "cell_type": "markdown",
   "metadata": {},
   "source": [
    "Voici une fonction utilitaire qui permet d'afficher sur deux lignes la description en extension d'une fonction : $y$ en-dessous de $x$ signifie que $f(x) = y$."
   ]
  },
  {
   "cell_type": "code",
   "execution_count": 15,
   "metadata": {},
   "outputs": [],
   "source": [
    "def two_line_repr(f):\n",
    "    \n",
    "    res = \"[ \"\n",
    "    for x in f.keys():\n",
    "        pad = (len(str(f[x])) - len(str(x))) * \" \" if len(str(f[x])) > len(str(x)) else \"\"\n",
    "        res += pad + str(x) + \" \"\n",
    "    res += \"]\\n[ \"\n",
    "    \n",
    "    for x in f.keys():\n",
    "        pad = (len(str(x)) - len(str(f[x]))) * \" \" if len(str(x)) > len(str(f[x])) else \"\"\n",
    "        res += pad + str(f[x]) + \" \"\n",
    "    res += \"]\"\n",
    "    \n",
    "    print(res)"
   ]
  },
  {
   "cell_type": "code",
   "execution_count": 16,
   "metadata": {},
   "outputs": [
    {
     "name": "stdout",
     "output_type": "stream",
     "text": [
      "[ a b c d ]\n",
      "[ 1 2 7 3 ]\n"
     ]
    }
   ],
   "source": [
    "two_line_repr(f)"
   ]
  },
  {
   "cell_type": "markdown",
   "metadata": {},
   "source": [
    "## 1) Composition\n",
    "\n",
    "Définir une fonction **comp(f,g)** qui prend en argument deux fonctions $f$ et $g$ données sous forme de dictionnaire et renvoie la fonction composée $f \\circ g$; une erreur est affichée si les fonctions ne sont pas composables. Vérifier sur quelques exemples que vous avez bien le fonctionnement attendu."
   ]
  },
  {
   "cell_type": "code",
   "execution_count": 17,
   "metadata": {},
   "outputs": [],
   "source": [
    "def comp(f,g) :\n",
    "    return { x : f[g[x]] for x in g.keys()}"
   ]
  },
  {
   "cell_type": "code",
   "execution_count": 18,
   "metadata": {},
   "outputs": [
    {
     "name": "stdout",
     "output_type": "stream",
     "text": [
      "[ 0 1 2 3  4  5  6 7 8 9 10 11 12 13 14 15 16 17 18 19 ]\n",
      "[ 0 3 6 9 12 15 18 1 4 7 10 13 16 19  2  5  8 11 14 17 ]\n"
     ]
    }
   ],
   "source": [
    "g = {i: 3*i%20 for i in range(20)}\n",
    "two_line_repr(g)"
   ]
  },
  {
   "cell_type": "code",
   "execution_count": 19,
   "metadata": {},
   "outputs": [
    {
     "name": "stdout",
     "output_type": "stream",
     "text": [
      "[  1 2 3 4 5 6 7  8  9 10 11 12 ]\n",
      "[ 12 9 1 2 6 1 6 12 11  7  2 10 ]\n"
     ]
    }
   ],
   "source": [
    "d = [10, 11, 12, 9, 8, 12, 1, 10, 2, 6, 9, 7]\n",
    "\n",
    "f = {i+1: d[i] for i in range(12)}\n",
    "\n",
    "r = f\n",
    "\n",
    "for i in range(7) :\n",
    "    \n",
    "    r = comp(r, f)\n",
    "\n",
    "two_line_repr(r)"
   ]
  },
  {
   "cell_type": "markdown",
   "metadata": {},
   "source": [
    "## 2) Générer les fonctions\n",
    "\n",
    "Définir une fonction (récursive si vous voulez) **all_func(n)** prenant en argument un entier $n$ et renvoyant une liste de toutes les fonctions de l'ensemble $[\\![1, n]\\!]$ dans lui-même (vérifiez que vous en obtenez bien $n^n$)."
   ]
  },
  {
   "cell_type": "code",
   "execution_count": 20,
   "metadata": {},
   "outputs": [
    {
     "name": "stdout",
     "output_type": "stream",
     "text": [
      "[{1: 1, 2: 1, 3: 1}, {1: 1, 2: 1, 3: 2}, {1: 1, 2: 1, 3: 3}, {1: 1, 2: 2, 3: 1}, {1: 1, 2: 2, 3: 2}, {1: 1, 2: 2, 3: 3}, {1: 1, 2: 3, 3: 1}, {1: 1, 2: 3, 3: 2}, {1: 1, 2: 3, 3: 3}, {1: 2, 2: 1, 3: 1}, {1: 2, 2: 1, 3: 2}, {1: 2, 2: 1, 3: 3}, {1: 2, 2: 2, 3: 1}, {1: 2, 2: 2, 3: 2}, {1: 2, 2: 2, 3: 3}, {1: 2, 2: 3, 3: 1}, {1: 2, 2: 3, 3: 2}, {1: 2, 2: 3, 3: 3}, {1: 3, 2: 1, 3: 1}, {1: 3, 2: 1, 3: 2}, {1: 3, 2: 1, 3: 3}, {1: 3, 2: 2, 3: 1}, {1: 3, 2: 2, 3: 2}, {1: 3, 2: 2, 3: 3}, {1: 3, 2: 3, 3: 1}, {1: 3, 2: 3, 3: 2}, {1: 3, 2: 3, 3: 3}]\n",
      "Nombre de fonctions dans l'ensemble [1,n] = 27 \n"
     ]
    }
   ],
   "source": [
    "def all_func(n):\n",
    "    return all_func_mn(n,n)\n",
    "\n",
    "def all_func_mn(m,n):\n",
    "    list = []\n",
    "\n",
    "    if n == 0:\n",
    "        return [{}]\n",
    "\n",
    "    for i in all_func_mn(m,n-1):\n",
    "        \n",
    "        for j in range(1,m+1):\n",
    "            \n",
    "            tmp = i.copy();\n",
    "            tmp[n] = j\n",
    "            list.append(tmp)\n",
    "\n",
    "    return list;\n",
    "\n",
    "print(all_func(3))\n",
    "print(\"Nombre de fonctions dans l'ensemble [1,n] = %d \" % len(all_func(3)))"
   ]
  },
  {
   "cell_type": "markdown",
   "metadata": {},
   "source": [
    "## 3) Associativité\n",
    "\n",
    "Vérifier explicitement l'associativité de la composition sur $\\mathcal{F}_n :=\\{ f : [\\![1,n]\\!] \\to [\\![1,n]\\!] \\}$ pour $n=3$ (rapide) puis pour $n = 4$ ($\\sim$ 1 min 20 s sur ma machine &ndash; vous pouvez chronométrer l'exécution d'une cellule en y écrivant **%%time** sur la première ligne). Combien de temps cela vous prendrait-il pour $n = 5$ ?"
   ]
  },
  {
   "cell_type": "code",
   "execution_count": 21,
   "metadata": {},
   "outputs": [],
   "source": [
    "def is_func_associatif(n):\n",
    "    \n",
    "    F = all_func(n)\n",
    "    nbr = 0\n",
    "    asso = 0\n",
    "\n",
    "    for i in F :\n",
    "        \n",
    "        for j in F :\n",
    "            \n",
    "            for k in F :\n",
    "\n",
    "                nbr +=1\n",
    "                \n",
    "                if comp(comp(i,j),k) == comp(i,comp(j,k)): # On teste si  ( i ∘ j ) ∘ k  =  i ∘ ( j ∘ k )\n",
    "                    asso +=1\n",
    "    \n",
    "    return asso == nbr"
   ]
  },
  {
   "cell_type": "code",
   "execution_count": 49,
   "metadata": {},
   "outputs": [
    {
     "data": {
      "text/html": [
       "<html>\\[\\newcommand{\\Bold}[1]{\\mathbf{#1}}\\mathrm{True}\\]</html>"
      ],
      "text/latex": [
       "$$\\newcommand{\\Bold}[1]{\\mathbf{#1}}\\mathrm{True}$$"
      ],
      "text/plain": [
       "True"
      ]
     },
     "metadata": {},
     "output_type": "display_data"
    },
    {
     "name": "stdout",
     "output_type": "stream",
     "text": [
      "CPU times: user 118 ms, sys: 2 µs, total: 118 ms\n",
      "Wall time: 117 ms\n"
     ]
    }
   ],
   "source": [
    "%%time\n",
    "\n",
    "F = all_func(3)\n",
    "\n",
    "show(associatif(3))"
   ]
  },
  {
   "cell_type": "code",
   "execution_count": 58,
   "metadata": {},
   "outputs": [
    {
     "data": {
      "text/html": [
       "<html>\\[\\newcommand{\\Bold}[1]{\\mathbf{#1}}\\mathrm{True}\\]</html>"
      ],
      "text/latex": [
       "$$\\newcommand{\\Bold}[1]{\\mathbf{#1}}\\mathrm{True}$$"
      ],
      "text/plain": [
       "True"
      ]
     },
     "metadata": {},
     "output_type": "display_data"
    },
    {
     "name": "stdout",
     "output_type": "stream",
     "text": [
      "CPU times: user 1min 40s, sys: 6.55 ms, total: 1min 40s\n",
      "Wall time: 1min 41s\n"
     ]
    }
   ],
   "source": [
    "%%time\n",
    "\n",
    "F = all_func(4)\n",
    "\n",
    "show(associatif(4))"
   ]
  },
  {
   "cell_type": "markdown",
   "metadata": {},
   "source": [
    "\n",
    "On fait le rapport entre all_func(4) et all_func(3) : 101/0,117 = 863,25.\n",
    "\n",
    "all_func(4) x 863,25 = 87 000 secondes = 24h environ.\n"
   ]
  },
  {
   "cell_type": "markdown",
   "metadata": {},
   "source": [
    "## 4) Fonctions symétrisables\n",
    "\n",
    "Déterminer par force brute le nombre de fonctions $f \\in \\mathcal{F}_n$ qui sont symétrisables pour $\\circ$ pour  $n \\leq 5$. Ces valeurs correspondent-elles à ce que vous attendiez ?"
   ]
  },
  {
   "cell_type": "code",
   "execution_count": 63,
   "metadata": {},
   "outputs": [
    {
     "data": {
      "text/html": [
       "<html>\\[\\newcommand{\\Bold}[1]{\\mathbf{#1}}\\verb|1|\\verb| |\\verb|:|\\verb|  |\\verb|1|\\]</html>"
      ],
      "text/latex": [
       "$$\\newcommand{\\Bold}[1]{\\mathbf{#1}}\\verb|1|\\verb| |\\verb|:|\\verb|  |\\verb|1|$$"
      ],
      "text/plain": [
       "'1 :  1'"
      ]
     },
     "metadata": {},
     "output_type": "display_data"
    },
    {
     "data": {
      "text/html": [
       "<html>\\[\\newcommand{\\Bold}[1]{\\mathbf{#1}}\\verb|2|\\verb| |\\verb|:|\\verb|  |\\verb|2|\\]</html>"
      ],
      "text/latex": [
       "$$\\newcommand{\\Bold}[1]{\\mathbf{#1}}\\verb|2|\\verb| |\\verb|:|\\verb|  |\\verb|2|$$"
      ],
      "text/plain": [
       "'2 :  2'"
      ]
     },
     "metadata": {},
     "output_type": "display_data"
    },
    {
     "data": {
      "text/html": [
       "<html>\\[\\newcommand{\\Bold}[1]{\\mathbf{#1}}\\verb|3|\\verb| |\\verb|:|\\verb|  |\\verb|6|\\]</html>"
      ],
      "text/latex": [
       "$$\\newcommand{\\Bold}[1]{\\mathbf{#1}}\\verb|3|\\verb| |\\verb|:|\\verb|  |\\verb|6|$$"
      ],
      "text/plain": [
       "'3 :  6'"
      ]
     },
     "metadata": {},
     "output_type": "display_data"
    },
    {
     "data": {
      "text/html": [
       "<html>\\[\\newcommand{\\Bold}[1]{\\mathbf{#1}}\\verb|4|\\verb| |\\verb|:|\\verb|  |\\verb|24|\\]</html>"
      ],
      "text/latex": [
       "$$\\newcommand{\\Bold}[1]{\\mathbf{#1}}\\verb|4|\\verb| |\\verb|:|\\verb|  |\\verb|24|$$"
      ],
      "text/plain": [
       "'4 :  24'"
      ]
     },
     "metadata": {},
     "output_type": "display_data"
    },
    {
     "data": {
      "text/html": [
       "<html>\\[\\newcommand{\\Bold}[1]{\\mathbf{#1}}\\verb|5|\\verb| |\\verb|:|\\verb|  |\\verb|120|\\]</html>"
      ],
      "text/latex": [
       "$$\\newcommand{\\Bold}[1]{\\mathbf{#1}}\\verb|5|\\verb| |\\verb|:|\\verb|  |\\verb|120|$$"
      ],
      "text/plain": [
       "'5 :  120'"
      ]
     },
     "metadata": {},
     "output_type": "display_data"
    },
    {
     "name": "stdout",
     "output_type": "stream",
     "text": [
      "CPU times: user 42.4 s, sys: 6.65 ms, total: 42.4 s\n",
      "Wall time: 42.5 s\n"
     ]
    }
   ],
   "source": [
    "%%time\n",
    "\n",
    "\n",
    "for i in range(1,6):\n",
    "    \n",
    "    nbr = 0\n",
    "    \n",
    "    for j in all_func(i):\n",
    "        \n",
    "        for k in all_func(i):\n",
    "            \n",
    "            F = comp(j,k)\n",
    "            try_ = 0\n",
    "            \n",
    "            for l in range(1,i+1):\n",
    "                \n",
    "                if F[l] == l : # Si on est en présence du neutre,\n",
    "                    try_ +=1 # On ajoute 1 au compteur\n",
    "            \n",
    "            if try_ == i:\n",
    "                nbr+=1\n",
    "    \n",
    "    show(\"%d : % d\"%(i,nbr))\n",
    "    "
   ]
  },
  {
   "cell_type": "markdown",
   "metadata": {},
   "source": [
    "Les fonctions symétrisables sont bijectives, or dans un groupe il y a n! fonctions bijectives donc n! fonctions symétrisables.\n",
    "\n",
    "1! = 1 = 1\n",
    "2! = 2x1 = 2\n",
    "3! = 3x2x1 = 6\n",
    "4! = 4x3x2x1 = 24\n",
    "5! = 5x4x3x2x1 = 120\n",
    "\n",
    "6! = 6x5x4x3x2x1 = 720\n",
    "\n",
    "Il y aurait donc 720 fonctions symétrisables pour n = 6."
   ]
  },
  {
   "cell_type": "markdown",
   "metadata": {},
   "source": [
    "## 5) Fonctions qui commutent\n",
    "\n",
    "Déterminer le nombre de paires $(f,g) \\in \\mathcal{F}_n^2$ de fonctions qui commutent pour $n \\leq 5$ (30 s sur mon PC). Sauriez-vous dire combien il y en a pour $n = 6$ ? (vous pouvez <a href=\"https://oeis.org/\">vous aider des internets</a> si vous séchez)"
   ]
  },
  {
   "cell_type": "code",
   "execution_count": 62,
   "metadata": {},
   "outputs": [
    {
     "name": "stdout",
     "output_type": "stream",
     "text": [
      "CPU times: user 4 µs, sys: 0 ns, total: 4 µs\n",
      "Wall time: 7.87 µs\n"
     ]
    },
    {
     "data": {
      "text/html": [
       "<html>\\[\\newcommand{\\Bold}[1]{\\mathbf{#1}}\\verb|1|\\verb| |\\verb|:|\\verb| |\\verb|1|\\]</html>"
      ],
      "text/latex": [
       "$$\\newcommand{\\Bold}[1]{\\mathbf{#1}}\\verb|1|\\verb| |\\verb|:|\\verb| |\\verb|1|$$"
      ],
      "text/plain": [
       "'1 : 1'"
      ]
     },
     "metadata": {},
     "output_type": "display_data"
    },
    {
     "data": {
      "text/html": [
       "<html>\\[\\newcommand{\\Bold}[1]{\\mathbf{#1}}\\verb|2|\\verb| |\\verb|:|\\verb| |\\verb|10|\\]</html>"
      ],
      "text/latex": [
       "$$\\newcommand{\\Bold}[1]{\\mathbf{#1}}\\verb|2|\\verb| |\\verb|:|\\verb| |\\verb|10|$$"
      ],
      "text/plain": [
       "'2 : 10'"
      ]
     },
     "metadata": {},
     "output_type": "display_data"
    },
    {
     "data": {
      "text/html": [
       "<html>\\[\\newcommand{\\Bold}[1]{\\mathbf{#1}}\\verb|3|\\verb| |\\verb|:|\\verb| |\\verb|141|\\]</html>"
      ],
      "text/latex": [
       "$$\\newcommand{\\Bold}[1]{\\mathbf{#1}}\\verb|3|\\verb| |\\verb|:|\\verb| |\\verb|141|$$"
      ],
      "text/plain": [
       "'3 : 141'"
      ]
     },
     "metadata": {},
     "output_type": "display_data"
    },
    {
     "data": {
      "text/html": [
       "<html>\\[\\newcommand{\\Bold}[1]{\\mathbf{#1}}\\verb|4|\\verb| |\\verb|:|\\verb| |\\verb|2824|\\]</html>"
      ],
      "text/latex": [
       "$$\\newcommand{\\Bold}[1]{\\mathbf{#1}}\\verb|4|\\verb| |\\verb|:|\\verb| |\\verb|2824|$$"
      ],
      "text/plain": [
       "'4 : 2824'"
      ]
     },
     "metadata": {},
     "output_type": "display_data"
    },
    {
     "data": {
      "text/html": [
       "<html>\\[\\newcommand{\\Bold}[1]{\\mathbf{#1}}\\verb|5|\\verb| |\\verb|:|\\verb| |\\verb|71565|\\]</html>"
      ],
      "text/latex": [
       "$$\\newcommand{\\Bold}[1]{\\mathbf{#1}}\\verb|5|\\verb| |\\verb|:|\\verb| |\\verb|71565|$$"
      ],
      "text/plain": [
       "'5 : 71565'"
      ]
     },
     "metadata": {},
     "output_type": "display_data"
    }
   ],
   "source": [
    "%time\n",
    "\n",
    "for i in range(1,6):\n",
    "    \n",
    "    nbr = 0\n",
    "    \n",
    "    for j in all_func(i): # On parcourt les lignes\n",
    "        \n",
    "        for k in all_func(i): # et les colonnes\n",
    "            \n",
    "            if comp(j,k) == comp(k,j): # On teste si j ∘ k = k ∘ j\n",
    "                nbr +=1 # Si oui on rajoute 1\n",
    "                \n",
    "    show(\"%d : %d\"%(i,nbr))\n"
   ]
  },
  {
   "cell_type": "markdown",
   "metadata": {},
   "source": [
    "Par rapport, on peut extrapoler qu'il y aurait au moins 30 fois 71 565 fonctions commutatives pour n = 6. Soit au moins 2146950."
   ]
  },
  {
   "cell_type": "markdown",
   "metadata": {},
   "source": [
    "## 6) Orbites\n",
    "\n",
    "On définit l'*orbite* d'un élément $x \\in [\\![1,n]\\!]$ par une fonction $f \\in \\mathcal{F}_n$ comme étant l'ensemble des itérés de la fonction sur cet élément:\n",
    "\n",
    "$$ \\mathrm{Orb}_f(x) = \\{ x, \\, f(x), \\, f^2(x), \\, f^3(x), \\, \\ldots \\, \\} $$\n",
    "\n",
    "Définir une fonction **orb(f,x)** renvoyant l'ensemble de ces valeurs sous forme de liste. Attention: l'ensemble d'arrivée de $f$ étant fini, la suite des valeurs $(f^n(x))$ finira forcément par boucler; assurez-vous de le détecter et de vous arrêter à ce moment."
   ]
  },
  {
   "cell_type": "code",
   "execution_count": 66,
   "metadata": {},
   "outputs": [
    {
     "ename": "SyntaxError",
     "evalue": "invalid syntax (3051984716.py, line 7)",
     "output_type": "error",
     "traceback": [
      "\u001b[0;36m  Input \u001b[0;32mIn [66]\u001b[0;36m\u001b[0m\n\u001b[0;31m    while fn[] in orbit:\u001b[0m\n\u001b[0m             ^\u001b[0m\n\u001b[0;31mSyntaxError\u001b[0m\u001b[0;31m:\u001b[0m invalid syntax\n"
     ]
    }
   ],
   "source": [
    "def orb(f,x):\n",
    "    \n",
    "    orbit = []\n",
    "    orbit.append(x);\n",
    "    fn = f\n",
    "    \n",
    "    while fn[] in orbit:\n",
    "        \n",
    "        orbit.append(fn[])\n",
    "        fn = comp(fn, f)\n",
    "        \n",
    "    return orbit \n",
    "\n",
    "# Ne marche pas"
   ]
  },
  {
   "cell_type": "markdown",
   "metadata": {},
   "source": [
    "Quelle est la taille moyenne des orbites des fonctions $f \\in \\mathcal{F}_7$ ? i.e. évaluez\n",
    "$$ \\frac{1}{|\\mathcal{F}_7|} \\sum_{f \\in \\mathcal{F}_7} \\frac{1}{7} \\sum_{x = 1}^7 | \\mathrm{Orb}_f(x) | $$"
   ]
  },
  {
   "cell_type": "code",
   "execution_count": null,
   "metadata": {},
   "outputs": [],
   "source": [
    "%%time\n",
    "\n",
    "moy = 0\n",
    "\n",
    "for i in all_func(7):\n",
    "    sum = 0\n",
    "    for j in range(1,8):\n",
    "        sum += len(orb(i,j))   # On ajoute chaque valeur,     \n",
    "    moy += sum/7 # Puis on divise par le nombre de valeurs\n",
    "\n",
    "print(moy/(7**7))"
   ]
  }
 ],
 "metadata": {
  "kernelspec": {
   "display_name": "SageMath 9.5",
   "language": "sage",
   "name": "sagemath"
  },
  "language_info": {
   "codemirror_mode": {
    "name": "ipython",
    "version": 3
   },
   "file_extension": ".py",
   "mimetype": "text/x-python",
   "name": "python",
   "nbconvert_exporter": "python",
   "pygments_lexer": "ipython3",
   "version": "3.10.3"
  }
 },
 "nbformat": 4,
 "nbformat_minor": 2
}
