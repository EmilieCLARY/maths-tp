{
 "cells": [
  {
   "cell_type": "markdown",
   "id": "2f4f948b",
   "metadata": {},
   "source": [
    "# TP5 - Intégrales Impropres\n",
    "\n",
    "- $m_1$ : CLARY Emilie\n",
    "- $m_2$ : CUVELIER Cyril\n",
    "- $m_3$ : VAN BOXEM Rémi\n"
   ]
  },
  {
   "cell_type": "markdown",
   "id": "7efd0f7f",
   "metadata": {},
   "source": [
    "## Exercice 1\n",
    "\n",
    "Considérons $$ I := \\int_0^{+\\infty} \\frac{sin (x)}{x}dx$$\n",
    "\n",
    "### Question 2\n",
    "\n",
    "Porter sur un même graphe les fonctions $ x \\to \\frac{sin (x)}{x}$ et $ X \\to F(X)$ et discuter de ce que vous pouvez conjecturer par rapport à la convergence de l’intégrale impropre.\n"
   ]
  },
  {
   "cell_type": "code",
   "execution_count": null,
   "id": "09469c8c",
   "metadata": {},
   "outputs": [],
   "source": [
    "var('x')\n",
    "f(x) = sin(x)/x\n",
    "\n",
    "\n",
    "def F(X):\n",
    "    return numerical_integral(sin(x)/x, 0, X)[0]\n",
    "\n",
    "\n",
    "plot(F, x, 0, 30, color=\"green\") + plot(f(x), x, 0, 30, color=\"magenta\")\n"
   ]
  },
  {
   "cell_type": "markdown",
   "id": "42a856f6",
   "metadata": {},
   "source": [
    "## Question 2\n",
    "\n",
    "Pour cette intégrale impropre, on peut montrer que $ |R(X)| \\leq \\frac{2}{(n + 1)\\pi}$ avec $ n = [\\frac{X}{\\pi}] \\in \\mathbb{N} $\n",
    "Utiliser ceci pour obtenir une approximation de $I$ précise à $ 10^{-3} $ près. Votre réponse est-elle cohérente avec\n",
    "vos observations à la question précédente ? Reconnaissez-vous cette valeur ?\n",
    "\n",
    "$$\\frac{2}{(n + 1)\\pi} = 10^{-3}$$\n",
    "$$\\frac{2}{\\pi} = (n+1)\\times 10^-3 $$\n",
    "$$n+1 = \\frac{2 \\times 10^3}{\\pi} $$\n",
    "$$n = \\frac{2 \\times 10^3}{\\pi}-1 $$\n",
    "\n",
    "On en déduit que $n = \\frac{2 \\times 10^3}{\\pi}-1 $\n"
   ]
  },
  {
   "cell_type": "code",
   "execution_count": null,
   "id": "8f296b6c",
   "metadata": {},
   "outputs": [],
   "source": [
    "n = ((2*(10 ^ 3))/(pi)) - 1\n",
    "show(n)\n"
   ]
  },
  {
   "cell_type": "markdown",
   "id": "22b39636",
   "metadata": {},
   "source": [
    "On en déduit que $n = \\frac{2000}{\\pi}-1$ Or : $n = [\\frac{X}{\\pi}]$. Ainsi on a $X = nx$ soit $x = 2000 - \\pi$\n"
   ]
  },
  {
   "cell_type": "code",
   "execution_count": null,
   "id": "aca2f473",
   "metadata": {},
   "outputs": [],
   "source": [
    "X = N(2000 - pi)\n",
    "show(\"X = \", X)\n",
    "# Ainsi, on peut calculer F(X)\n",
    "show(\"F(X) = \", F(X))\n"
   ]
  },
  {
   "cell_type": "markdown",
   "id": "d60a5fcb",
   "metadata": {},
   "source": [
    "On remarque que la valeur trouvée de $F(X)$ avec $X =2000 - \\pi$ est proche de notre hypothèse de base, c'est à dire $F(x)$ tend vers $\\frac{\\pi}{2}$."
   ]
  },
  {
   "cell_type": "markdown",
   "id": "aeb921c5",
   "metadata": {},
   "source": [
    "## Exercice 2\n",
    "\n",
    "- Mêmes questions avec $$ I := \\int_0^{+\\infty} \\frac{1 - e^{-x}}{1 + x^2}dx $$"
   ]
  },
  {
   "cell_type": "markdown",
   "id": "38440e84-49a2-4b9f-8ba7-5317425a322f",
   "metadata": {},
   "source": [
    "On représente sur un graphique les deux fonctions."
   ]
  },
  {
   "cell_type": "code",
   "execution_count": 1,
   "id": "faf8411f",
   "metadata": {},
   "outputs": [
    {
     "data": {
      "image/png": "[encoded data removed]",
      "text/plain": [
       "Graphics object consisting of 2 graphics primitives"
      ]
     },
     "execution_count": 1,
     "metadata": {},
     "output_type": "execute_result"
    }
   ],
   "source": [
    "def g(x):\n",
    "    return (1-e ^ (-x))/(1+x ^ 2)\n",
    "\n",
    "\n",
    "def G(X):\n",
    "    return numerical_integral((1-e ^ (-x))/(1+x ^ 2), 0, X)[0]\n",
    "\n",
    "\n",
    "plot(G, (0, 80), color='blue') + plot(g, (0, 80), color='red')\n"
   ]
  },
  {
   "cell_type": "markdown",
   "id": "c432406c-0006-4d8b-8471-0fd0aa5264e2",
   "metadata": {},
   "source": [
    "La courbe bleue semble converger vers 0.90 pour X tend vers $+\\infty$, on vérifie numériquement :"
   ]
  },
  {
   "cell_type": "code",
   "execution_count": 2,
   "id": "739606b0-7a13-4db0-9abe-c5f667e40ec6",
   "metadata": {},
   "outputs": [
    {
     "data": {
      "text/html": [
       "<html>\\[\\newcommand{\\Bold}[1]{\\mathbf{#1}}0.8981\\]</html>"
      ],
      "text/latex": [
       "$$\\newcommand{\\Bold}[1]{\\mathbf{#1}}0.8981$$"
      ],
      "text/plain": [
       "0.8981"
      ]
     },
     "metadata": {},
     "output_type": "display_data"
    }
   ],
   "source": [
    "reset()\n",
    "t = var('t')\n",
    "a = var('a')\n",
    "t = 0\n",
    "while((pi/2)-arctan(t) >= 10 ^ (-3)):\n",
    "    t += 1\n",
    "\n",
    "a = numerical_integral((1-exp(x) ^ (-x))/(1+x ^ 2), 0, t)[0]\n",
    "show(numerical_approx(a, digits=4))\n"
   ]
  },
  {
   "cell_type": "markdown",
   "id": "852b5355-6373-40ac-91bc-b21882ec8374",
   "metadata": {},
   "source": [
    "On a donc un résultat cohérent."
   ]
  },
  {
   "cell_type": "markdown",
   "id": "fa76fefa-40ef-4e8b-a69c-072df0474587",
   "metadata": {},
   "source": [
    "b) Nous admettons que $ |R(X)| \\leq \\int_0^{+\\infty} \\frac{1}{1 + x^2}dx = \\frac{\\pi}{2} - arctan X $\n",
    "\n",
    "On cherche une approximation de $I$ précise à $\\xi = 10^{-3}$ près.\n",
    "\n",
    "On cherche à déterminer x. Nous savons que $|R(X|\\leq \\xi$. Or $|R(X)| \\leq \\frac{\\pi}{2} - arctan X$. Donc nous allons trouver la valeur de X quand :\n",
    "\n",
    "$$ \\frac{\\pi}{2} - arctan(x) = 10^{-3} $$\n",
    "$$ - arctan(x) = 10^{-3} - \\frac{\\pi}{2}$$\n",
    "$$ arctan(x) = \\frac{\\pi}{2} - 10^{-3}$$\n",
    "$$ x = tan(\\frac{\\pi}{2} - 10^{-3})$$\n"
   ]
  },
  {
   "cell_type": "markdown",
   "id": "3915d54f-063c-4e66-a461-bddf573cead5",
   "metadata": {},
   "source": [
    "On fait une approximation numérique de x :"
   ]
  },
  {
   "cell_type": "code",
   "execution_count": 7,
   "id": "f67ef333-d340-41c8-8b27-224c469bd40c",
   "metadata": {},
   "outputs": [
    {
     "data": {
      "text/html": [
       "<html>\\[\\newcommand{\\Bold}[1]{\\mathbf{#1}}999.999666666693\\]</html>"
      ],
      "text/latex": [
       "$$\\newcommand{\\Bold}[1]{\\mathbf{#1}}999.999666666693$$"
      ],
      "text/plain": [
       "999.999666666693"
      ]
     },
     "metadata": {},
     "output_type": "display_data"
    }
   ],
   "source": [
    "X = tan((pi/2) - 10 ^ (-3))\n",
    "show(numerical_approx(X))\n"
   ]
  },
  {
   "cell_type": "markdown",
   "id": "9d4b3f1f-e3b5-4414-9128-1453bbab8870",
   "metadata": {},
   "source": [
    "Puis on calcule G(X)"
   ]
  },
  {
   "cell_type": "code",
   "execution_count": 8,
   "id": "9db9ea5e-2579-4571-bd90-2c80bbfec7ef",
   "metadata": {},
   "outputs": [
    {
     "ename": "NameError",
     "evalue": "name 'G' is not defined",
     "output_type": "error",
     "traceback": [
      "\u001b[0;31m---------------------------------------------------------------------------\u001b[0m",
      "\u001b[0;31mNameError\u001b[0m                                 Traceback (most recent call last)",
      "\u001b[0;32m/usr/lib/python3.9/site-packages/sage/all_cmdline.py\u001b[0m in \u001b[0;36m<module>\u001b[0;34m\u001b[0m\n\u001b[0;32m----> 1\u001b[0;31m \u001b[0mshow\u001b[0m\u001b[0;34m(\u001b[0m\u001b[0mG\u001b[0m\u001b[0;34m(\u001b[0m\u001b[0mX\u001b[0m\u001b[0;34m)\u001b[0m\u001b[0;34m)\u001b[0m\u001b[0;34m\u001b[0m\u001b[0;34m\u001b[0m\u001b[0m\n\u001b[0m",
      "\u001b[0;31mNameError\u001b[0m: name 'G' is not defined"
     ]
    }
   ],
   "source": [
    "show(G(X))\n"
   ]
  },
  {
   "cell_type": "markdown",
   "id": "2c463dca-1f5e-48a6-980c-3cae15f8a551",
   "metadata": {},
   "source": [
    "Cette valeur est plutôt en accord avec notre conjecture."
   ]
  },
  {
   "cell_type": "markdown",
   "id": "b5ce16e7",
   "metadata": {},
   "source": [
    "- Cette fois avec $$ I := \\int_0^{+\\infty} e^{-x^{2}}dx, |R(X)| \\le \\frac{\\sqrt{\\pi}}{2}.e^{-X^{2}}$$"
   ]
  },
  {
   "cell_type": "markdown",
   "id": "7e9c3f63-a26b-410a-9125-bb06e8567d0c",
   "metadata": {},
   "source": [
    "On représente sur un graphique les deux fonctions."
   ]
  },
  {
   "cell_type": "code",
   "execution_count": 9,
   "id": "80ea8f9b",
   "metadata": {},
   "outputs": [
    {
     "data": {
      "image/png": "[encoded data removed]",
      "text/plain": [
       "Graphics object consisting of 2 graphics primitives"
      ]
     },
     "execution_count": 9,
     "metadata": {},
     "output_type": "execute_result"
    }
   ],
   "source": [
    "def h(x):\n",
    "    return e ^ (-x ^ (2))\n",
    "\n",
    "\n",
    "def H(X):\n",
    "    return numerical_integral(e ^ (-x ^ (2)), 0, X)[0]\n",
    "\n",
    "\n",
    "plot(H, (0, 3), color='purple') + plot(h, (0, 3), color='green')\n"
   ]
  },
  {
   "cell_type": "markdown",
   "id": "9dbddd56-eb06-4054-85e5-396a78e3a929",
   "metadata": {},
   "source": [
    "Lorsque $X$ tend vers $+\\infty$, la courbe violette tend vers 0,9."
   ]
  },
  {
   "cell_type": "markdown",
   "id": "5e7fe214-1db5-46dc-9daf-1890b84ea71a",
   "metadata": {},
   "source": [
    "2. On admet que $ |R(X)| \\leq \\frac{\\sqrt \\pi}{2} e^{-X^{2}}$\n",
    "\n",
    "Cherchons une approximation de $I$ précise à $\\xi = 10^{-3} près$. Pour cela, nous déterminons X. Nous savons que $|R(X|\\leq \\xi$. Or $|R(X)| \\leq \\frac{\\sqrt \\pi}{2} e^{-X^{2}}$. Donc nous allons trouver la valeur de X quand $$ \\frac{\\sqrt \\pi}{2} e^{-X^{2}} = 10^{-3} $$\n",
    "\n",
    "$$ e^{-X^{2}} = \\frac{2 _ 10^{-3}}{\\sqrt \\pi}$$\n",
    "$$ -X^{2} = ln(\\frac{2 _ 10^{-3}}{\\sqrt \\pi})$$\n",
    "$$ -X^{2} = ln(2) + ln(10^{-3}) - ln(\\sqrt \\pi)$$\n",
    "$$ -X^{2} = ln(2) - 3 _ ln(10) - ln(\\sqrt \\pi)$$\n",
    "$$ X = \\sqrt{- ln(2) + 3 _ ln(10) + ln(\\sqrt \\pi)}$$\n"
   ]
  },
  {
   "cell_type": "markdown",
   "id": "a0a6897b-ffea-4370-b883-43fea5a15bac",
   "metadata": {},
   "source": [
    "On fait une approximation numérique de $X$ :"
   ]
  },
  {
   "cell_type": "code",
   "execution_count": 10,
   "id": "332ef1e0-5127-4399-b90f-e028b630b77b",
   "metadata": {},
   "outputs": [
    {
     "data": {
      "text/html": [
       "<html>\\[\\newcommand{\\Bold}[1]{\\mathbf{#1}}2.60518195935464\\]</html>"
      ],
      "text/latex": [
       "$$\\newcommand{\\Bold}[1]{\\mathbf{#1}}2.60518195935464$$"
      ],
      "text/plain": [
       "2.60518195935464"
      ]
     },
     "metadata": {},
     "output_type": "display_data"
    }
   ],
   "source": [
    "X = sqrt(- ln(2) + 3 * ln(10) + ln(sqrt(pi)))\n",
    "show(numerical_approx(X))\n"
   ]
  },
  {
   "cell_type": "markdown",
   "id": "f95bafe4-94a0-4b20-a3e5-5f2998ddb496",
   "metadata": {},
   "source": [
    "Puis on veut calculer $H(X)$"
   ]
  },
  {
   "cell_type": "code",
   "execution_count": 11,
   "id": "b618308f-5754-45ee-9887-7d41a913ecfb",
   "metadata": {},
   "outputs": [
    {
     "data": {
      "text/html": [
       "<html>\\[\\newcommand{\\Bold}[1]{\\mathbf{#1}}0.886023672211413\\]</html>"
      ],
      "text/latex": [
       "$$\\newcommand{\\Bold}[1]{\\mathbf{#1}}0.886023672211413$$"
      ],
      "text/plain": [
       "0.886023672211413"
      ]
     },
     "metadata": {},
     "output_type": "display_data"
    }
   ],
   "source": [
    "show(H(X))\n"
   ]
  },
  {
   "cell_type": "markdown",
   "id": "cfabdacf-c88c-41ad-bb14-185ceaa4e38e",
   "metadata": {},
   "source": [
    "On est donc très proche du résultat trouvé avec la conjecture."
   ]
  },
  {
   "cell_type": "markdown",
   "id": "4b089682",
   "metadata": {},
   "source": [
    "- Qu'en est-il de $$ I := \\int_1^{+\\infty} \\frac{1}{x - e^{-x}}dx$$"
   ]
  },
  {
   "cell_type": "markdown",
   "id": "b12b5ae4-4003-4219-b182-5e209645aa4f",
   "metadata": {},
   "source": [
    "On dessine sur un graphique la fonction et son intégrale."
   ]
  },
  {
   "cell_type": "code",
   "execution_count": 12,
   "id": "9e147ac1",
   "metadata": {},
   "outputs": [
    {
     "data": {
      "image/png": "[encoded data removed]",
      "text/plain": [
       "Graphics object consisting of 2 graphics primitives"
      ]
     },
     "execution_count": 12,
     "metadata": {},
     "output_type": "execute_result"
    }
   ],
   "source": [
    "def k(x):\n",
    "    return 1/(x - e ^ (-x))\n",
    "\n",
    "\n",
    "def K(X):\n",
    "    return numerical_integral(1/(x - e ^ (-x)), 1, X)[0]\n",
    "\n",
    "\n",
    "plot(K, (1, 110), color='orange') + plot(k, (1, 110), color='cyan')\n"
   ]
  },
  {
   "cell_type": "markdown",
   "id": "fc51ebaa-023c-42df-9cbc-dd0a8cb0738f",
   "metadata": {},
   "source": [
    "L'intégrale K semble diverger lorsque $X$ tend vers $+\\infty$"
   ]
  },
  {
   "cell_type": "markdown",
   "id": "619615db-d14f-4c9c-b96c-fd846271edaa",
   "metadata": {},
   "source": [
    "2) On peut remarquer que notre intégrale K est minorée par l'intégrale $ \\int_1^{+\\infty} \\frac{1}{x}dx$\n",
    "\n",
    "Graphiquement cela donne :"
   ]
  },
  {
   "cell_type": "code",
   "execution_count": null,
   "id": "8d3eb4ec-afdd-4c0c-995e-038582932fc0",
   "metadata": {},
   "outputs": [],
   "source": [
    "def P(X):\n",
    "    return numerical_integral(1/x, 1, X)[0]\n",
    "\n",
    "\n",
    "plot(K, (1, 100), color='orange') + plot(P, (1, 100), color='gold')\n"
   ]
  },
  {
   "cell_type": "markdown",
   "id": "2ec10e66-40cb-4ada-a574-9deb34a579e9",
   "metadata": {},
   "source": [
    "Or $ \\int_1^{+\\infty} \\frac{1}{x}dx$ une intégrale de Riemann avec $\\alpha = 1$, donc cette intégrale diverge.\n",
    "\n",
    "Étant minorée par une intégrale qui diverge, d'après le théorème de comparaison, l'intégrale K diverge également.\n"
   ]
  },
  {
   "cell_type": "markdown",
   "id": "c828d975-b9db-42df-80c4-b039fc42d7b7",
   "metadata": {},
   "source": [
    "## Discutez des ressemblances et différences entre ces quatre cas."
   ]
  },
  {
   "cell_type": "markdown",
   "id": "bb7b6405-fd59-443b-9882-32a3122ef48e",
   "metadata": {},
   "source": [
    "On a 3 cas convergents : $$ I := \\int_0^{+\\infty} \\frac{1 - e^{-x}}{1 + x^2}dx $$ $$ I := \\int_0^{+\\infty} \\frac{sin (x)}{x}dx$$ $$ I := \\int_0^{+\\infty} e^{-x^{2}}dx$$"
   ]
  },
  {
   "cell_type": "markdown",
   "id": "bbacce55-ca33-4154-af75-719bd2d7e089",
   "metadata": {},
   "source": [
    "Alors que $ I := \\int_1^{+\\infty} \\frac{1}{x - e^{-x}}dx$ (le dernier cas) diverge."
   ]
  },
  {
   "cell_type": "markdown",
   "id": "0a403b5b-6de1-4cee-9255-305b6f76bfb6",
   "metadata": {},
   "source": [
    "De ce fait, les 3 premiers cas peuvent être bornés, approximés à un $\\xi$ donné et nous pouvons calculer n et X."
   ]
  },
  {
   "cell_type": "markdown",
   "id": "d3c66dc4",
   "metadata": {},
   "source": [
    "## Exercice 3"
   ]
  },
  {
   "cell_type": "markdown",
   "id": "cd9027db",
   "metadata": {},
   "source": [
    "Considérons la fonction, définie par une intégrale impropre (convergente n’est-ce pas ?) : $$ G(\\alpha) := \\int_0^{\\infty} x^\\alpha e^{-x} dx, \\alpha \\geq 0 $$.\n",
    "\n",
    "Pour des petites valeurs de $\\alpha$ (disons, $ 0 \\le \\alpha \\le 10 $), on peut raisonnablement dire que : $$ G(\\alpha) \\approx \\int_0^{40} x^\\alpha e^{-x} dx $$\n",
    "\n",
    "Utilisez cette approximation pour tracer le graphe de $G$ sur $ [0, 10]$. Reconnaissez-vous les valeurs prises par $G$ lorsque $\\alpha$ est entier ?"
   ]
  },
  {
   "cell_type": "markdown",
   "id": "da90ec21-4b7c-4845-bbbb-f54f1967cdba",
   "metadata": {},
   "source": [
    "On affiche les différentes valeurs de G demandées :"
   ]
  },
  {
   "cell_type": "code",
   "execution_count": 21,
   "id": "6a66550c",
   "metadata": {},
   "outputs": [
    {
     "data": {
      "text/html": [
       "<html>\\[\\newcommand{\\Bold}[1]{\\mathbf{#1}}\\verb|G(| 0 \\verb|)|\\phantom{\\verb!x!}\\verb|=| 1.00000000000000\\]</html>"
      ],
      "text/latex": [
       "$$\\newcommand{\\Bold}[1]{\\mathbf{#1}}\\verb|G(| 0 \\verb|)|\\phantom{\\verb!x!}\\verb|=| 1.00000000000000$$"
      ],
      "text/plain": [
       "'G(' 0 ') = ' 1.00000000000000"
      ]
     },
     "metadata": {},
     "output_type": "display_data"
    },
    {
     "data": {
      "text/html": [
       "<html>\\[\\newcommand{\\Bold}[1]{\\mathbf{#1}}\\verb|G(| 1 \\verb|)|\\phantom{\\verb!x!}\\verb|=| 1.00000000000000\\]</html>"
      ],
      "text/latex": [
       "$$\\newcommand{\\Bold}[1]{\\mathbf{#1}}\\verb|G(| 1 \\verb|)|\\phantom{\\verb!x!}\\verb|=| 1.00000000000000$$"
      ],
      "text/plain": [
       "'G(' 1 ') = ' 1.00000000000000"
      ]
     },
     "metadata": {},
     "output_type": "display_data"
    },
    {
     "data": {
      "text/html": [
       "<html>\\[\\newcommand{\\Bold}[1]{\\mathbf{#1}}\\verb|G(| 2 \\verb|)|\\phantom{\\verb!x!}\\verb|=| 1.99999999999999\\]</html>"
      ],
      "text/latex": [
       "$$\\newcommand{\\Bold}[1]{\\mathbf{#1}}\\verb|G(| 2 \\verb|)|\\phantom{\\verb!x!}\\verb|=| 1.99999999999999$$"
      ],
      "text/plain": [
       "'G(' 2 ') = ' 1.99999999999999"
      ]
     },
     "metadata": {},
     "output_type": "display_data"
    },
    {
     "data": {
      "text/html": [
       "<html>\\[\\newcommand{\\Bold}[1]{\\mathbf{#1}}\\verb|G(| 3 \\verb|)|\\phantom{\\verb!x!}\\verb|=| 5.99999999999971\\]</html>"
      ],
      "text/latex": [
       "$$\\newcommand{\\Bold}[1]{\\mathbf{#1}}\\verb|G(| 3 \\verb|)|\\phantom{\\verb!x!}\\verb|=| 5.99999999999971$$"
      ],
      "text/plain": [
       "'G(' 3 ') = ' 5.99999999999971"
      ]
     },
     "metadata": {},
     "output_type": "display_data"
    },
    {
     "data": {
      "text/html": [
       "<html>\\[\\newcommand{\\Bold}[1]{\\mathbf{#1}}\\verb|G(| 4 \\verb|)|\\phantom{\\verb!x!}\\verb|=| 23.9999999999879\\]</html>"
      ],
      "text/latex": [
       "$$\\newcommand{\\Bold}[1]{\\mathbf{#1}}\\verb|G(| 4 \\verb|)|\\phantom{\\verb!x!}\\verb|=| 23.9999999999879$$"
      ],
      "text/plain": [
       "'G(' 4 ') = ' 23.9999999999879"
      ]
     },
     "metadata": {},
     "output_type": "display_data"
    },
    {
     "data": {
      "text/html": [
       "<html>\\[\\newcommand{\\Bold}[1]{\\mathbf{#1}}\\verb|G(| 5 \\verb|)|\\phantom{\\verb!x!}\\verb|=| 119.999999999505\\]</html>"
      ],
      "text/latex": [
       "$$\\newcommand{\\Bold}[1]{\\mathbf{#1}}\\verb|G(| 5 \\verb|)|\\phantom{\\verb!x!}\\verb|=| 119.999999999505$$"
      ],
      "text/plain": [
       "'G(' 5 ') = ' 119.999999999505"
      ]
     },
     "metadata": {},
     "output_type": "display_data"
    },
    {
     "data": {
      "text/html": [
       "<html>\\[\\newcommand{\\Bold}[1]{\\mathbf{#1}}\\verb|G(| 6 \\verb|)|\\phantom{\\verb!x!}\\verb|=| 719.999999979627\\]</html>"
      ],
      "text/latex": [
       "$$\\newcommand{\\Bold}[1]{\\mathbf{#1}}\\verb|G(| 6 \\verb|)|\\phantom{\\verb!x!}\\verb|=| 719.999999979627$$"
      ],
      "text/plain": [
       "'G(' 6 ') = ' 719.999999979627"
      ]
     },
     "metadata": {},
     "output_type": "display_data"
    },
    {
     "data": {
      "text/html": [
       "<html>\\[\\newcommand{\\Bold}[1]{\\mathbf{#1}}\\verb|G(| 7 \\verb|)|\\phantom{\\verb!x!}\\verb|=| 5039.99999916134\\]</html>"
      ],
      "text/latex": [
       "$$\\newcommand{\\Bold}[1]{\\mathbf{#1}}\\verb|G(| 7 \\verb|)|\\phantom{\\verb!x!}\\verb|=| 5039.99999916134$$"
      ],
      "text/plain": [
       "'G(' 7 ') = ' 5039.99999916134"
      ]
     },
     "metadata": {},
     "output_type": "display_data"
    },
    {
     "data": {
      "text/html": [
       "<html>\\[\\newcommand{\\Bold}[1]{\\mathbf{#1}}\\verb|G(| 8 \\verb|)|\\phantom{\\verb!x!}\\verb|=| 40319.9999654487\\]</html>"
      ],
      "text/latex": [
       "$$\\newcommand{\\Bold}[1]{\\mathbf{#1}}\\verb|G(| 8 \\verb|)|\\phantom{\\verb!x!}\\verb|=| 40319.9999654487$$"
      ],
      "text/plain": [
       "'G(' 8 ') = ' 40319.9999654487"
      ]
     },
     "metadata": {},
     "output_type": "display_data"
    },
    {
     "data": {
      "text/html": [
       "<html>\\[\\newcommand{\\Bold}[1]{\\mathbf{#1}}\\verb|G(| 9 \\verb|)|\\phantom{\\verb!x!}\\verb|=| 362879.998575358\\]</html>"
      ],
      "text/latex": [
       "$$\\newcommand{\\Bold}[1]{\\mathbf{#1}}\\verb|G(| 9 \\verb|)|\\phantom{\\verb!x!}\\verb|=| 362879.998575358$$"
      ],
      "text/plain": [
       "'G(' 9 ') = ' 362879.998575358"
      ]
     },
     "metadata": {},
     "output_type": "display_data"
    },
    {
     "data": {
      "text/html": [
       "<html>\\[\\newcommand{\\Bold}[1]{\\mathbf{#1}}\\verb|G(| 10 \\verb|)|\\phantom{\\verb!x!}\\verb|=| 3.62879994120635 \\times 10^{6}\\]</html>"
      ],
      "text/latex": [
       "$$\\newcommand{\\Bold}[1]{\\mathbf{#1}}\\verb|G(| 10 \\verb|)|\\phantom{\\verb!x!}\\verb|=| 3.62879994120635 \\times 10^{6}$$"
      ],
      "text/plain": [
       "'G(' 10 ') = ' 3.62879994120635e6"
      ]
     },
     "metadata": {},
     "output_type": "display_data"
    },
    {
     "data": {
      "image/png": "[encoded data removed]",
      "text/plain": [
       "Graphics object consisting of 1 graphics primitive"
      ]
     },
     "execution_count": 21,
     "metadata": {},
     "output_type": "execute_result"
    }
   ],
   "source": [
    "reset()\n",
    "\n",
    "t = var(\"t\")\n",
    "G = integral((x ^ t) * exp(-x), x, 0, 40)\n",
    "\n",
    "for i in range(0, 11):\n",
    "    show(\"G(\", i, \") = \", numerical_approx(\n",
    "        integral((x ^ i) * exp(-x), x, 0, 40)))\n",
    "plot(G, xmin=0, xmax=10, ymin=0, ymax=150, color='#ff79C6')\n"
   ]
  },
  {
   "cell_type": "markdown",
   "id": "21f63e24-906b-4776-a16f-d24f847cc8d1",
   "metadata": {},
   "source": [
    "Nous remarquons que les valeurs que prend $G$ lorsque t est entier sont semblables aux valeurs de $G(t-1) * t$."
   ]
  },
  {
   "cell_type": "code",
   "execution_count": 18,
   "id": "7c9494c0-2013-4890-b4f4-e962785e7e2d",
   "metadata": {},
   "outputs": [
    {
     "name": "stderr",
     "output_type": "stream",
     "text": [
      "/tmp/ipykernel_5818/1122298961.py:1: DeprecationWarning: Substitution using function-call syntax and unnamed arguments is deprecated and will be removed from a future release of Sage; you can use named arguments instead, like EXPR(x=..., y=...)\n",
      "See http://trac.sagemath.org/5930 for details.\n",
      "  show(numerical_approx(G(Integer(3))*Integer(4)))\n"
     ]
    },
    {
     "data": {
      "text/html": [
       "<html>\\[\\newcommand{\\Bold}[1]{\\mathbf{#1}}23.9999999999988\\]</html>"
      ],
      "text/latex": [
       "$$\\newcommand{\\Bold}[1]{\\mathbf{#1}}23.9999999999988$$"
      ],
      "text/plain": [
       "23.9999999999988"
      ]
     },
     "metadata": {},
     "output_type": "display_data"
    },
    {
     "name": "stderr",
     "output_type": "stream",
     "text": [
      "/tmp/ipykernel_5818/1122298961.py:2: DeprecationWarning: Substitution using function-call syntax and unnamed arguments is deprecated and will be removed from a future release of Sage; you can use named arguments instead, like EXPR(x=..., y=...)\n",
      "See http://trac.sagemath.org/5930 for details.\n",
      "  show(numerical_approx(G(Integer(4))))\n"
     ]
    },
    {
     "data": {
      "text/html": [
       "<html>\\[\\newcommand{\\Bold}[1]{\\mathbf{#1}}23.9999999999879\\]</html>"
      ],
      "text/latex": [
       "$$\\newcommand{\\Bold}[1]{\\mathbf{#1}}23.9999999999879$$"
      ],
      "text/plain": [
       "23.9999999999879"
      ]
     },
     "metadata": {},
     "output_type": "display_data"
    }
   ],
   "source": [
    "show(numerical_approx(G(3)*4))\n",
    "show(numerical_approx(G(4)))\n"
   ]
  }
 ],
 "metadata": {
  "kernelspec": {
   "display_name": "SageMath 9.4",
   "language": "sage",
   "name": "sagemath"
  },
  "language_info": {
   "codemirror_mode": {
    "name": "ipython",
    "version": 3
   },
   "file_extension": ".py",
   "mimetype": "text/x-python",
   "name": "python",
   "nbconvert_exporter": "python",
   "pygments_lexer": "ipython3",
   "version": "3.9.7"
  }
 },
 "nbformat": 4,
 "nbformat_minor": 5
}
