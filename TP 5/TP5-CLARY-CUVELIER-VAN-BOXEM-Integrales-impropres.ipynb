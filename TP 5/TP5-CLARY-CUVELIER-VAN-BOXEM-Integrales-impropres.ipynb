{
 "cells": [
  {
   "cell_type": "markdown",
   "id": "2f4f948b",
   "metadata": {},
   "source": [
    "# TP5 - Intégrales Impropres\n",
    "- $m_1$ : CLARY Emilie\n",
    "- $m_2$ : CUVELIER Cyril\n",
    "- $m_3$ : VAN BOXEM Rémi"
   ]
  },
  {
   "cell_type": "markdown",
   "id": "7efd0f7f",
   "metadata": {},
   "source": [
    "## Exercice 1\n",
    "\n",
    "Considérons $$ I := \\int_0^{+\\infty} \\frac{sin (x)}{x}dx$$\n",
    "\n",
    "- Porter sur un même graphe les fonctions $ x \\to \\frac{sin (x)}{x}$ et $ X \\to F(X)$ et discuter de ce que vous pouvez conjecturer par rapport à la convergence de l’intégrale impropre."
   ]
  },
  {
   "cell_type": "code",
   "execution_count": null,
   "id": "09469c8c",
   "metadata": {},
   "outputs": [],
   "source": []
  },
  {
   "cell_type": "markdown",
   "id": "42a856f6",
   "metadata": {},
   "source": [
    "- Pour cette intégrale impropre, on peut montrer que $ |R(X)| \\leq \\frac{2}{(n + 1)\\pi}$ avec  $ n = [\\frac{X}{\\pi}] \\in \\mathbb{N} $\n",
    "Utiliser ceci pour obtenir une approximation de $I$ précise à $ 10^{-3} $ près. Votre réponse est-elle cohérente avec\n",
    "vos observations à la question précédente ? Reconnaissez-vous cette valeur ?"
   ]
  },
  {
   "cell_type": "code",
   "execution_count": null,
   "id": "8f296b6c",
   "metadata": {},
   "outputs": [],
   "source": []
  },
  {
   "cell_type": "markdown",
   "id": "aeb921c5",
   "metadata": {},
   "source": [
    "## Exercice 2\n",
    "\n",
    "- Mêmes questions avec $$ I := \\int_0^{+\\infty} \\frac{1 - e^{-x}}{1 + x^2}dx $$"
   ]
  },
  {
   "cell_type": "code",
   "execution_count": null,
   "id": "faf8411f",
   "metadata": {},
   "outputs": [],
   "source": []
  },
  {
   "cell_type": "markdown",
   "id": "b5ce16e7",
   "metadata": {},
   "source": [
    "- Cette fois avec $$ I := \\int_0^{+\\infty} e^{-x^{2}}dx, |R(X)| \\le \\frac{sqrt(\\pi)}{2}.e^{-X^{2}}$$"
   ]
  },
  {
   "cell_type": "code",
   "execution_count": null,
   "id": "80ea8f9b",
   "metadata": {},
   "outputs": [],
   "source": []
  },
  {
   "cell_type": "markdown",
   "id": "4b089682",
   "metadata": {},
   "source": [
    "- Qu'en est-il de $$ I := \\int_1^{+\\infty} \\frac{1}{x - e^{-x}}dx$$"
   ]
  },
  {
   "cell_type": "code",
   "execution_count": null,
   "id": "9e147ac1",
   "metadata": {},
   "outputs": [],
   "source": []
  },
  {
   "cell_type": "markdown",
   "id": "3bb50f91",
   "metadata": {},
   "source": [
    "- Discutez des ressemblances et différences entre ces quatre cas."
   ]
  },
  {
   "cell_type": "code",
   "execution_count": null,
   "id": "533a4c11",
   "metadata": {},
   "outputs": [],
   "source": []
  },
  {
   "cell_type": "markdown",
   "id": "d3c66dc4",
   "metadata": {},
   "source": [
    "## Exercice 3"
   ]
  },
  {
   "cell_type": "markdown",
   "id": "cd9027db",
   "metadata": {},
   "source": [
    "Considérons la fonction, définie par une intégrale impropre (convergente n’est-ce pas ?) : $$ G(\\alpha) := \\int_0^{\\infty} x^\\alpha e^{-x} dx, \\alpha \\geq 0 $$.\n",
    "\n",
    "Pour des petites valeurs de $\\alpha$ (disons, $ 0 \\le \\alpha \\le 10 $), on peut raisonnablement dire que : $$ G(\\alpha) \\approx \\int_0^{40} x^\\alpha e^{-x} dx $$\n",
    "\n",
    "Utilisez cette approximation pour tracer le graphe de $G$ sur $ [0, 10]$. Reconnaissez-vous les valeurs prises par $G$ lorsque $\\alpha$ est entier ?"
   ]
  },
  {
   "cell_type": "code",
   "execution_count": null,
   "id": "6a66550c",
   "metadata": {},
   "outputs": [],
   "source": []
  }
 ],
 "metadata": {
  "kernelspec": {
   "display_name": "SageMath 9.4",
   "language": "sage",
   "name": "sagemath"
  },
  "language_info": {
   "codemirror_mode": {
    "name": "ipython",
    "version": 3
   },
   "file_extension": ".py",
   "mimetype": "text/x-python",
   "name": "python",
   "nbconvert_exporter": "python",
   "pygments_lexer": "ipython3",
   "version": "3.9.7"
  }
 },
 "nbformat": 4,
 "nbformat_minor": 5
}
