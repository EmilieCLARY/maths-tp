{
 "cells": [
  {
   "cell_type": "markdown",
   "metadata": {},
   "source": [
    "# TP12 &ndash; Corps binaires et applications\n",
    "\n",
    "Indiquez ici vos noms et prénoms: **<span style=\"color: blue;\">CLARY Emilie / DIEU Joachim</span>**\n",
    "\n",
    "Prière d'user et abuser de cellules de calcul __et de cellules de texte__ dans vos réponses aux questions ci-dessous.\n",
    "\n",
    "## I &mdash; Un anneau qui a du caractère\n",
    "\n",
    "Nous allons travailler dans ce TP avec l'implémentation suivante d'un anneau un peu particulier à 64 éléments :"
   ]
  },
  {
   "cell_type": "code",
   "execution_count": 1,
   "metadata": {},
   "outputs": [],
   "source": [
    "class F(SageObject):\n",
    "    \n",
    "    names = \"01abcdefghijklmnopqrstuvwxyzABCDEFGHIJKLMNOPQRSTUVWXYZ_!?-'#$%&@\"\n",
    "    \n",
    "    def __init__(self, val):\n",
    "        \n",
    "        try:\n",
    "            self.id = Integer(F.names.index(str(val)))\n",
    "        except ValueError:\n",
    "            raise ValueError(\"Element %s unknown\" % val)\n",
    "            \n",
    "    def __eq__(self, other):\n",
    "        \n",
    "        return self.id == other.id\n",
    "        \n",
    "    def __ne__(self, other):\n",
    "        \n",
    "        return not (self == other)\n",
    "        \n",
    "    def __repr__(self):\n",
    "        \n",
    "        return F.names[self.id]\n",
    "    \n",
    "    def __add__(self, other):\n",
    "        \n",
    "        r = F(self)\n",
    "        r += other\n",
    "        return r\n",
    "    \n",
    "    def __iadd__(self, other):\n",
    "        \n",
    "        self.id = self.id.__xor__(other.id)\n",
    "        return self\n",
    "    \n",
    "    def shift(self):\n",
    "        \n",
    "        tmp = self.id << 1\n",
    "        res = tmp % 64\n",
    "        \n",
    "        if tmp // 64:\n",
    "            res = res.__xor__(27)  # magic number!\n",
    "            \n",
    "        self.id = res\n",
    "    \n",
    "    def __mul__(self, other):\n",
    "        \n",
    "        res = F(0)\n",
    "        tmp = F(other)\n",
    "        \n",
    "        for b in self.id.bits():\n",
    "            if b:\n",
    "                res += tmp\n",
    "            tmp.shift()\n",
    "            \n",
    "        return res\n",
    "        \n",
    "    def __pow__(self, exp):\n",
    "        \n",
    "        res = F(1)\n",
    "        \n",
    "        for i in range(exp):\n",
    "            res *= self\n",
    "        \n",
    "        return res\n",
    "        \n",
    "F.elements = [ F(i) for i in F.names ]"
   ]
  },
  {
   "cell_type": "markdown",
   "metadata": {},
   "source": [
    "Les éléments de $\\mathbf{F}$ sont les 64 caractères (symboles) suivants:"
   ]
  },
  {
   "cell_type": "code",
   "execution_count": 2,
   "metadata": {},
   "outputs": [
    {
     "name": "stdout",
     "output_type": "stream",
     "text": [
      "[0, 1, a, b, c, d, e, f, g, h, i, j, k, l, m, n, o, p, q, r, s, t, u, v, w, x, y, z, A, B, C, D, E, F, G, H, I, J, K, L, M, N, O, P, Q, R, S, T, U, V, W, X, Y, Z, _, !, ?, -, ', #, $, %, &, @]\n"
     ]
    }
   ],
   "source": [
    "print(F.elements)"
   ]
  },
  {
   "cell_type": "markdown",
   "metadata": {},
   "source": [
    "On leur accède en faisant la conversion (_cast_) d'un caractère en élément de $\\mathbf{F}$ :"
   ]
  },
  {
   "cell_type": "code",
   "execution_count": 3,
   "metadata": {},
   "outputs": [
    {
     "data": {
      "text/plain": [
       "a"
      ]
     },
     "execution_count": 3,
     "metadata": {},
     "output_type": "execute_result"
    }
   ],
   "source": [
    "a = F(\"a\")\n",
    "a          # affichage symbolique !"
   ]
  },
  {
   "cell_type": "markdown",
   "metadata": {},
   "source": [
    "Deux opérations de base sont implémentées : une « addition »"
   ]
  },
  {
   "cell_type": "code",
   "execution_count": 4,
   "metadata": {},
   "outputs": [
    {
     "data": {
      "text/plain": [
       "e"
      ]
     },
     "execution_count": 4,
     "metadata": {},
     "output_type": "execute_result"
    }
   ],
   "source": [
    "c = F(\"c\")\n",
    "a + c"
   ]
  },
  {
   "cell_type": "markdown",
   "metadata": {},
   "source": [
    "et une « multiplication »"
   ]
  },
  {
   "cell_type": "code",
   "execution_count": 5,
   "metadata": {},
   "outputs": [
    {
     "data": {
      "text/plain": [
       "g"
      ]
     },
     "execution_count": 5,
     "metadata": {},
     "output_type": "execute_result"
    }
   ],
   "source": [
    "a * c"
   ]
  },
  {
   "cell_type": "markdown",
   "metadata": {},
   "source": [
    "Notez que l'anneau $\\mathbf{F}$, contenant 64 éléments, n'est **pas** isomorphe à $\\mathbb{Z}/64 \\mathbb{Z}$, puisque par exemple on peut vérifier que $\\alpha + \\alpha = 0$ pour tout $\\alpha \\in \\mathbb{F}$ : "
   ]
  },
  {
   "cell_type": "code",
   "execution_count": 6,
   "metadata": {},
   "outputs": [
    {
     "name": "stdout",
     "output_type": "stream",
     "text": [
      "alpha = q, alpha + alpha = 0\n"
     ]
    }
   ],
   "source": [
    "alpha = choice(F.elements)  # random element, run again for another one\n",
    "\n",
    "print(\"alpha = %s, alpha + alpha = %s\" % (alpha, alpha + alpha))"
   ]
  },
  {
   "cell_type": "markdown",
   "metadata": {},
   "source": [
    "### a) C'est un anneau commutatif\n",
    "\n",
    "Vérifier explicitement (par force brute) que tous les axiomes d'anneau commutatif sont satisfaits pour cette structure algébrique. Par exemple : voici la vérification de la commutativité de la multiplication."
   ]
  },
  {
   "cell_type": "code",
   "execution_count": 7,
   "metadata": {},
   "outputs": [
    {
     "name": "stdout",
     "output_type": "stream",
     "text": [
      "Multiplication is commutative\n"
     ]
    }
   ],
   "source": [
    "commutative = True\n",
    "\n",
    "for alpha in F.elements:\n",
    "    for beta in F.elements:\n",
    "        if alpha * beta != beta * alpha:\n",
    "            commutative = False\n",
    "            \n",
    "if commutative:\n",
    "    print(\"Multiplication is commutative\")\n",
    "else:\n",
    "    print(\"Multiplication is NOT commutive\")"
   ]
  },
  {
   "cell_type": "markdown",
   "metadata": {},
   "source": [
    "### LCI"
   ]
  },
  {
   "cell_type": "markdown",
   "metadata": {},
   "source": [
    "On parcourt les éléments de l'anneau et on vérifie qu'ils sont dans le même ensemble."
   ]
  },
  {
   "cell_type": "markdown",
   "metadata": {},
   "source": [
    "D'abord avec la loi additive :"
   ]
  },
  {
   "cell_type": "code",
   "execution_count": 8,
   "metadata": {},
   "outputs": [
    {
     "name": "stdout",
     "output_type": "stream",
     "text": [
      "True\n"
     ]
    }
   ],
   "source": [
    "LCI = True\n",
    "\n",
    "for i in F.elements :\n",
    "    for j in F.elements :\n",
    "        res = i + j\n",
    "        if(res not in F.elements):\n",
    "            LCI = False\n",
    "        \n",
    "print(LCI)"
   ]
  },
  {
   "cell_type": "markdown",
   "metadata": {},
   "source": [
    "Puis multiplicative :"
   ]
  },
  {
   "cell_type": "code",
   "execution_count": 9,
   "metadata": {},
   "outputs": [
    {
     "name": "stdout",
     "output_type": "stream",
     "text": [
      "True\n"
     ]
    }
   ],
   "source": [
    "LCI = True\n",
    "\n",
    "for i in F.elements :\n",
    "    for j in F.elements :\n",
    "        res = i * j\n",
    "        if(res not in F.elements):\n",
    "            LCI = False\n",
    "        \n",
    "print(LCI)"
   ]
  },
  {
   "cell_type": "markdown",
   "metadata": {},
   "source": [
    "### Commutativité"
   ]
  },
  {
   "cell_type": "markdown",
   "metadata": {},
   "source": [
    "On parcourt les éléments de l'anneau et on vérifie qu'ils soient commutatifs, c'est à dire : f o g = g o f"
   ]
  },
  {
   "cell_type": "markdown",
   "metadata": {},
   "source": [
    "D'abord avec la loi additive :"
   ]
  },
  {
   "cell_type": "code",
   "execution_count": 10,
   "metadata": {},
   "outputs": [
    {
     "name": "stdout",
     "output_type": "stream",
     "text": [
      "True\n"
     ]
    }
   ],
   "source": [
    "com = True\n",
    "\n",
    "for i in F.elements :\n",
    "    for j in F.elements :\n",
    "        \n",
    "        res1 = i+j\n",
    "        res2 = j+i\n",
    "        \n",
    "        if(res1 != res2) :\n",
    "            com = False\n",
    "\n",
    "            \n",
    "            \n",
    "print(com)\n"
   ]
  },
  {
   "cell_type": "markdown",
   "metadata": {},
   "source": [
    "Puis multiplicative :"
   ]
  },
  {
   "cell_type": "code",
   "execution_count": 11,
   "metadata": {},
   "outputs": [
    {
     "name": "stdout",
     "output_type": "stream",
     "text": [
      "True\n"
     ]
    }
   ],
   "source": [
    "com = True\n",
    "\n",
    "for i in F.elements :\n",
    "    for j in F.elements :\n",
    "        \n",
    "        res1 = i*j\n",
    "        res2 = j*i\n",
    "        \n",
    "        if(res1 != res2) :\n",
    "            com = False\n",
    "\n",
    "            \n",
    "            \n",
    "print(com)\n"
   ]
  },
  {
   "cell_type": "markdown",
   "metadata": {},
   "source": [
    "### Associativité"
   ]
  },
  {
   "cell_type": "markdown",
   "metadata": {},
   "source": [
    "On parcourt les éléments de l'anneau et on vérifie qu'ils soient associatifs, c'est à dire : (f o g) o h = f o (g o h)."
   ]
  },
  {
   "cell_type": "markdown",
   "metadata": {},
   "source": [
    "D'abord avec la loi additive :"
   ]
  },
  {
   "cell_type": "code",
   "execution_count": 12,
   "metadata": {},
   "outputs": [
    {
     "data": {
      "text/html": [
       "<html>\\[\\newcommand{\\Bold}[1]{\\mathbf{#1}}\\mathrm{True}\\]</html>"
      ],
      "text/latex": [
       "$$\\newcommand{\\Bold}[1]{\\mathbf{#1}}\\mathrm{True}$$"
      ],
      "text/plain": [
       "True"
      ]
     },
     "metadata": {},
     "output_type": "display_data"
    }
   ],
   "source": [
    "asso = True\n",
    "\n",
    "for i in F.elements :\n",
    "    for j in F.elements :\n",
    "        for k in F.elements :\n",
    "            \n",
    "            res1 = (i + j) + k\n",
    "            res2 = i + (j  + k)\n",
    "        \n",
    "            if(res1 != res2) :\n",
    "                asso = False\n",
    "\n",
    "show(asso)"
   ]
  },
  {
   "cell_type": "markdown",
   "metadata": {},
   "source": [
    "Puis multiplicative :"
   ]
  },
  {
   "cell_type": "code",
   "execution_count": 13,
   "metadata": {},
   "outputs": [
    {
     "data": {
      "text/html": [
       "<html>\\[\\newcommand{\\Bold}[1]{\\mathbf{#1}}\\mathrm{True}\\]</html>"
      ],
      "text/latex": [
       "$$\\newcommand{\\Bold}[1]{\\mathbf{#1}}\\mathrm{True}$$"
      ],
      "text/plain": [
       "True"
      ]
     },
     "metadata": {},
     "output_type": "display_data"
    }
   ],
   "source": [
    "asso = True\n",
    "\n",
    "for i in F.elements :\n",
    "    for j in F.elements :\n",
    "        for k in F.elements :\n",
    "            \n",
    "            res1 = (i + j) + k\n",
    "            res2 = i + (j  + k)\n",
    "        \n",
    "            if(res1 != res2) :\n",
    "                asso = False\n",
    "\n",
    "show(asso)"
   ]
  },
  {
   "cell_type": "markdown",
   "metadata": {},
   "source": [
    "### Neutre"
   ]
  },
  {
   "cell_type": "markdown",
   "metadata": {},
   "source": [
    "On parcourt les éléments de l'anneau et on vérifier si f o e = f"
   ]
  },
  {
   "cell_type": "markdown",
   "metadata": {},
   "source": [
    "D'abord avec la loi additive :"
   ]
  },
  {
   "cell_type": "code",
   "execution_count": 14,
   "metadata": {},
   "outputs": [
    {
     "name": "stdout",
     "output_type": "stream",
     "text": [
      "Le neutre additif est 0.\n"
     ]
    }
   ],
   "source": [
    "neutreAddi = 9\n",
    "\n",
    "for i in F.elements :\n",
    "    for j in F.elements :\n",
    "\n",
    "        if(i+j == j) :\n",
    "            neutreAddi = i\n",
    "\n",
    "print(\"Le neutre additif est %s.\" % neutreAddi)"
   ]
  },
  {
   "cell_type": "markdown",
   "metadata": {},
   "source": [
    "Puis multiplicative :"
   ]
  },
  {
   "cell_type": "code",
   "execution_count": 15,
   "metadata": {},
   "outputs": [
    {
     "name": "stdout",
     "output_type": "stream",
     "text": [
      "Le neutre multiplicatif est 1. \n"
     ]
    }
   ],
   "source": [
    "neutreMulti = 9\n",
    "\n",
    "for i in F.elements :\n",
    "    for j in F.elements :\n",
    "\n",
    "        if(i*j == i) :\n",
    "            neutreMulti = j\n",
    "\n",
    "print(\"Le neutre multiplicatif est %s. \" % neutreMulti)"
   ]
  },
  {
   "cell_type": "markdown",
   "metadata": {},
   "source": [
    "### Symétrisable"
   ]
  },
  {
   "cell_type": "markdown",
   "metadata": {},
   "source": [
    "On parcourt les éléments de l'anneau et on vérifie si i o j = e"
   ]
  },
  {
   "cell_type": "markdown",
   "metadata": {},
   "source": [
    "D'abord avec la loi additive :"
   ]
  },
  {
   "cell_type": "code",
   "execution_count": 16,
   "metadata": {},
   "outputs": [
    {
     "name": "stdout",
     "output_type": "stream",
     "text": [
      "0\n",
      "1\n",
      "a\n",
      "b\n",
      "c\n",
      "d\n",
      "e\n",
      "f\n",
      "g\n",
      "h\n",
      "i\n",
      "j\n",
      "k\n",
      "l\n",
      "m\n",
      "n\n",
      "o\n",
      "p\n",
      "q\n",
      "r\n",
      "s\n",
      "t\n",
      "u\n",
      "v\n",
      "w\n",
      "x\n",
      "y\n",
      "z\n",
      "A\n",
      "B\n",
      "C\n",
      "D\n",
      "E\n",
      "F\n",
      "G\n",
      "H\n",
      "I\n",
      "J\n",
      "K\n",
      "L\n",
      "M\n",
      "N\n",
      "O\n",
      "P\n",
      "Q\n",
      "R\n",
      "S\n",
      "T\n",
      "U\n",
      "V\n",
      "W\n",
      "X\n",
      "Y\n",
      "Z\n",
      "_\n",
      "!\n",
      "?\n",
      "-\n",
      "'\n",
      "#\n",
      "$\n",
      "%\n",
      "&\n",
      "@\n",
      "Il y a 64 élements symétrisables.\n"
     ]
    }
   ],
   "source": [
    "tabSymAddi = []\n",
    "nbrSymAddi = 0\n",
    "index = 0\n",
    "\n",
    "for i in F.elements :\n",
    "    for j in F.elements :\n",
    "\n",
    "        if(i+j == neutreAddi) :\n",
    "            #tabSymAddi[nbrSymAddi] = i\n",
    "            nbrSymAddi += 1\n",
    "            print(i)\n",
    "\n",
    "            \n",
    "print(\"Il y a %s\" % nbrSymAddi, \"élements symétrisables.\")"
   ]
  },
  {
   "cell_type": "markdown",
   "metadata": {},
   "source": [
    "Puis multiplicative :"
   ]
  },
  {
   "cell_type": "code",
   "execution_count": 17,
   "metadata": {},
   "outputs": [
    {
     "name": "stdout",
     "output_type": "stream",
     "text": [
      "1\n",
      "a\n",
      "b\n",
      "c\n",
      "d\n",
      "e\n",
      "f\n",
      "g\n",
      "h\n",
      "i\n",
      "j\n",
      "k\n",
      "l\n",
      "m\n",
      "n\n",
      "o\n",
      "p\n",
      "q\n",
      "r\n",
      "s\n",
      "t\n",
      "u\n",
      "v\n",
      "w\n",
      "x\n",
      "y\n",
      "z\n",
      "A\n",
      "B\n",
      "C\n",
      "D\n",
      "E\n",
      "F\n",
      "G\n",
      "H\n",
      "I\n",
      "J\n",
      "K\n",
      "L\n",
      "M\n",
      "N\n",
      "O\n",
      "P\n",
      "Q\n",
      "R\n",
      "S\n",
      "T\n",
      "U\n",
      "V\n",
      "W\n",
      "X\n",
      "Y\n",
      "Z\n",
      "_\n",
      "!\n",
      "?\n",
      "-\n",
      "'\n",
      "#\n",
      "$\n",
      "%\n",
      "&\n",
      "@\n",
      "Il y a 63 élements symétrisables.\n"
     ]
    }
   ],
   "source": [
    "tabSymMulti = []\n",
    "nbrSymMulti = 0\n",
    "index = 0\n",
    "\n",
    "for i in F.elements :\n",
    "    for j in F.elements :\n",
    "\n",
    "        if(i*j == neutreMulti) :\n",
    "            #tabSymMulti[nbrSymMulti] = i\n",
    "            print(i)\n",
    "            nbrSymMulti += 1\n",
    "\n",
    "            \n",
    "print(\"Il y a %s\" % nbrSymMulti ,\"élements symétrisables.\")"
   ]
  },
  {
   "cell_type": "markdown",
   "metadata": {},
   "source": [
    "### Distributivité"
   ]
  },
  {
   "cell_type": "markdown",
   "metadata": {},
   "source": [
    "On parcourt les éléments de l'anneau et on vérifie si x ∘ (y ∗ z) = (x ∘ y) ∗ (x ∘ z)  "
   ]
  },
  {
   "cell_type": "code",
   "execution_count": 18,
   "metadata": {},
   "outputs": [
    {
     "name": "stdout",
     "output_type": "stream",
     "text": [
      "True\n"
     ]
    }
   ],
   "source": [
    "dist = True\n",
    "\n",
    "for i in F.elements :\n",
    "    for j in F.elements :\n",
    "        for k in F.elements :\n",
    "\n",
    "            res1 = i * (j + k)\n",
    "            res2 = (i * j) + (i * k)  \n",
    "        \n",
    "            if(res1 != res2) :\n",
    "                dist = False\n",
    "\n",
    "print(dist)"
   ]
  },
  {
   "cell_type": "markdown",
   "metadata": {},
   "source": [
    "### b) Inverse d'un élément\n",
    "\n",
    "Il est aisé de vérifier qu'un élément est inversible si on nous fournit un candidat pour son inverse. Par exemple, le calcul ci-dessous suffit à nous convaincre que l'élément $\\mathtt{a}$ est inversible et que $\\mathtt{a}^{-1} = \\mathtt{R}$."
   ]
  },
  {
   "cell_type": "code",
   "execution_count": 19,
   "metadata": {},
   "outputs": [
    {
     "data": {
      "text/plain": [
       "1"
      ]
     },
     "execution_count": 19,
     "metadata": {},
     "output_type": "execute_result"
    }
   ],
   "source": [
    "F(\"a\") * F(\"R\")"
   ]
  },
  {
   "cell_type": "markdown",
   "metadata": {},
   "source": [
    "Soit $m$ la somme des numéros des mois de naissance des membres du binôme et $\\zeta$ l'élément `F.elements[m]` de $\\mathbf{F}$. Vérifiez que $\\zeta$ est inversible en recherchant par force brute son inverse parmi les éléments de $\\mathbf{F}$."
   ]
  },
  {
   "cell_type": "markdown",
   "metadata": {},
   "source": [
    "Emilie est née en Mars (03) et Joachim en Janvier (01), m vaut donc 4."
   ]
  },
  {
   "cell_type": "code",
   "execution_count": 20,
   "metadata": {},
   "outputs": [
    {
     "name": "stdout",
     "output_type": "stream",
     "text": [
      "L'inverse de zeta vaut #.\n"
     ]
    }
   ],
   "source": [
    "m = 4\n",
    "zeta = F.elements[m]\n",
    "\n",
    "for inverse in F.elements :\n",
    "    if(zeta*inverse == neutreMulti) :\n",
    "        neutreM = inverse\n",
    "        \n",
    "        \n",
    "print(\"L'inverse de zeta vaut %s.\" % neutreM)"
   ]
  },
  {
   "cell_type": "markdown",
   "metadata": {},
   "source": [
    "### c) Structure multiplicative\n",
    "\n",
    "En fait, vous l'aurez peut-être deviné : tous les éléments non nuls de $\\mathbf{F}$ sont inversibles (il s'agit donc d'un _corps_ fini à 64 éléments). Une façon de s'en convaincre est la suivante : déterminez tout d'abord l'ordre multiplicatif de l'élément $\\mathtt{a}$."
   ]
  },
  {
   "cell_type": "markdown",
   "metadata": {},
   "source": [
    "Dans un sous-groupe, on a les listes d'éléments cycliques. Pour les trouver on itère en faisant a^n en incrémentant n jusqu'à ce qu'on boucle."
   ]
  },
  {
   "cell_type": "code",
   "execution_count": 21,
   "metadata": {},
   "outputs": [
    {
     "name": "stdout",
     "output_type": "stream",
     "text": [
      "L'ordre multiplicatif de l'élement a vaut 63.\n"
     ]
    }
   ],
   "source": [
    "a = F(\"a\")\n",
    "\n",
    "b = a*a\n",
    "n = 1\n",
    "\n",
    "while(b != neutreMulti) :\n",
    "    b = b*a\n",
    "    n+=1\n",
    "\n",
    "    \n",
    "print(\"L'ordre multiplicatif de l'élement a vaut %s.\" % (n+1))"
   ]
  },
  {
   "cell_type": "markdown",
   "metadata": {},
   "source": [
    "Comment l'information ci-dessus permet-elle de conclure que tout élement non nul de $\\mathbf{F}$ est inversible ? Mettez cet argument en valeur en proposant une seconde façon de déterminer l'inverse de l'élément $\\zeta$ ci-dessus une fois connu le fait que $\\mathtt{a}^{-1} = \\mathtt{R}$."
   ]
  },
  {
   "cell_type": "markdown",
   "metadata": {},
   "source": [
    "L'ensemble des éléments sont contenus dans le sous-groupe créé donc tous les éléments sont dits \"générateurs\" de ce sous-groupe.\n",
    "On sait que le neutre appartient forcément à ce sous-groupe et que l'ensemble des éléments sont d'ordre multiplicatif 63.\n",
    "L'inverse d'un élément \"a\" au hasard dans le sous groupe, vaut a^-1.\n",
    "\n",
    "On peut donc conclure que tous les éléments sont inversibles sauf 0."
   ]
  },
  {
   "cell_type": "markdown",
   "metadata": {},
   "source": [
    "### d) Solutions d'une équation polynomiale\n",
    "\n",
    "Déterminer les racines dans $\\mathbf{F}$ du polynôme $f(X) = X^6 + X^4 + X^3 + X + 1 \\in \\mathbb{F}_2[X]$."
   ]
  },
  {
   "cell_type": "code",
   "execution_count": 22,
   "metadata": {},
   "outputs": [
    {
     "name": "stdout",
     "output_type": "stream",
     "text": [
      "a\n",
      "c\n",
      "o\n",
      "r\n",
      "W\n",
      "!\n"
     ]
    }
   ],
   "source": [
    "for i in F.elements :\n",
    "    \n",
    "    res = i^6 + i^4 + i^3 + i + F(\"1\")\n",
    "    \n",
    "    if(res == neutreAddi) :\n",
    "        print(i)"
   ]
  },
  {
   "cell_type": "markdown",
   "metadata": {},
   "source": [
    "Expliquer comment cela permet de se convaincre que chaque élément de $\\mathbb{F}$ peut s'écrire, de façon unique, sous la forme d'une expression de la forme\n",
    "\n",
    "$$ b_5 \\mathtt{a}^5 + b_4 \\mathtt{a}^4 + b_3 \\mathtt{a}^3 + b_2 \\mathtt{a}^2 + b_1 \\mathtt{a} + b_0 $$\n",
    "\n",
    "avec $b_0, \\ldots, b_5 \\in \\mathbb{F}_2$ &ndash; et donc essentiellement comme un vecteur de 6 bits $(b_0, \\ldots, b_5) \\in (\\mathbf{F}_2)^6$. Quelle est l'écriture correspondante pour votre élément $\\zeta$ ci-dessus ?"
   ]
  },
  {
   "cell_type": "code",
   "execution_count": 23,
   "metadata": {},
   "outputs": [
    {
     "data": {
      "text/html": [
       "<html>\\[\\newcommand{\\Bold}[1]{\\mathbf{#1}}1 1 0 0 0 1\\]</html>"
      ],
      "text/latex": [
       "$$\\newcommand{\\Bold}[1]{\\mathbf{#1}}1 1 0 0 0 1$$"
      ],
      "text/plain": [
       "1 1 0 0 0 1"
      ]
     },
     "metadata": {},
     "output_type": "display_data"
    }
   ],
   "source": [
    "for i in range(2):\n",
    "    for j in range(2):\n",
    "        for k in range(2):\n",
    "            for l in range(2):\n",
    "                for m in range(2):\n",
    "                    for n in range(2):\n",
    "                        \n",
    "                        if F.elements[i] * (F(\"a\")**5) + F.elements[j] * (F(\"a\")**4) + F.elements[k] * (F(\"a\")**3) + F.elements[l] * (F(\"a\")**2) + F.elements[m] * F(\"a\") + F.elements[n] == F(\"V\"):\n",
    "                            show(i,j,k,l,m,n)"
   ]
  },
  {
   "cell_type": "markdown",
   "metadata": {},
   "source": [
    "L'écriture correspondante est donc 11 0001 en binaire.\n",
    "On a bien ici une écriture très proche d'un vecteur de 6 bits."
   ]
  },
  {
   "cell_type": "markdown",
   "metadata": {},
   "source": [
    "## II &ndash; Chaînes de caractères et applications\n",
    "\n",
    "Si les éléments du corps $\\mathbf{F}$ sont des caractères, cela signifie que l'on peut considérer une chaîne de caractères de longueur $n$ comme un vecteur de $\\mathbf{F}^n$... Voici un début de classe permettant de considérer une chaîne de caractères (admissibles) comme une liste de scalaires dans $\\mathbf{F}$."
   ]
  },
  {
   "cell_type": "code",
   "execution_count": 24,
   "metadata": {},
   "outputs": [],
   "source": [
    "class V:\n",
    "    \n",
    "    def __init__(self, s):\n",
    "        \n",
    "        self.coeffs = [ F(c) for c in s.replace(\" \", \"_\") ]\n",
    "        \n",
    "    def __repr__(self):\n",
    "        \n",
    "        s = \"\".join([c.__repr__() for c in self.coeffs])\n",
    "        \n",
    "        return s.replace(\"_\", \" \")\n",
    "        \n",
    "    def __eq__(self, other):\n",
    "        \n",
    "        return self.coeffs == other.coeffs\n",
    "        \n",
    "    def __len__(self):\n",
    "        \n",
    "        return len(self.coeffs)\n",
    "    \n",
    "    def __add__(self, other):\n",
    "        \n",
    "        for i in range(len(self)):\n",
    "            self.coeffs[i] = self.coeffs[i] + other.coeffs[i]\n",
    "            \n",
    "        return self"
   ]
  },
  {
   "cell_type": "markdown",
   "metadata": {},
   "source": [
    "### a) Somme de vecteurs\n",
    "\n",
    "Ajouter à cette classe une méthode `__add__` permettant de faire la somme terme à terme de deux chaînes de caractères de même longueur. Par exemple, on devrait avoir:"
   ]
  },
  {
   "cell_type": "code",
   "execution_count": 25,
   "metadata": {},
   "outputs": [
    {
     "data": {
      "text/plain": [
       "True"
      ]
     },
     "execution_count": 25,
     "metadata": {},
     "output_type": "execute_result"
    }
   ],
   "source": [
    "V(\"ceci\") + V(\"cela\") == V(\"00hg\")"
   ]
  },
  {
   "cell_type": "code",
   "execution_count": 26,
   "metadata": {},
   "outputs": [
    {
     "data": {
      "text/plain": [
       "True"
      ]
     },
     "execution_count": 26,
     "metadata": {},
     "output_type": "execute_result"
    }
   ],
   "source": [
    "V(\"CECI\") + V(\"cela\") == V(\"yKrK\")"
   ]
  },
  {
   "cell_type": "code",
   "execution_count": 27,
   "metadata": {},
   "outputs": [
    {
     "data": {
      "text/plain": [
       "True"
      ]
     },
     "execution_count": 27,
     "metadata": {},
     "output_type": "execute_result"
    }
   ],
   "source": [
    "V(\"ceci\") + V(\"CELA\") == V(\"yKHu\")"
   ]
  },
  {
   "cell_type": "code",
   "execution_count": 28,
   "metadata": {},
   "outputs": [
    {
     "data": {
      "text/plain": [
       "True"
      ]
     },
     "execution_count": 28,
     "metadata": {},
     "output_type": "execute_result"
    }
   ],
   "source": [
    "V(\"CECI\") + V(\"CELA\") == V(\"00-?\")"
   ]
  },
  {
   "cell_type": "markdown",
   "metadata": {},
   "source": [
    "### b) Chiffrement à clé secrète\n",
    "\n",
    "On peut utiliser l'addition de chaînes de caractères ainsi définie pour garantir la confidentialité d'une chaîne de caractères donnée. Par exemple : on peut rendre le message"
   ]
  },
  {
   "cell_type": "code",
   "execution_count": 29,
   "metadata": {},
   "outputs": [],
   "source": [
    "m = V(\"Texte clair\")"
   ]
  },
  {
   "cell_type": "markdown",
   "metadata": {},
   "source": [
    "inintelligible par un tiers en le masquant à l'aide d'une clé secrète générée aléatoirement, par exemple"
   ]
  },
  {
   "cell_type": "code",
   "execution_count": 30,
   "metadata": {},
   "outputs": [],
   "source": [
    "k = V(\"kqaS%LAKVw'\")"
   ]
  },
  {
   "cell_type": "markdown",
   "metadata": {},
   "source": [
    "on obtient alors la chaîne incompréhensible suivante calculant la somme $c = m + k$ :"
   ]
  },
  {
   "cell_type": "code",
   "execution_count": 31,
   "metadata": {},
   "outputs": [],
   "source": [
    "c = V(\"Hsz##pwPXqN\")"
   ]
  },
  {
   "cell_type": "markdown",
   "metadata": {},
   "source": [
    "Pour déchiffrer, il suffit de retirer le masque en l'appliquant une seconde fois !"
   ]
  },
  {
   "cell_type": "code",
   "execution_count": 32,
   "metadata": {},
   "outputs": [
    {
     "data": {
      "text/plain": [
       "Texte clair"
      ]
     },
     "execution_count": 32,
     "metadata": {},
     "output_type": "execute_result"
    }
   ],
   "source": [
    "c + k"
   ]
  },
  {
   "cell_type": "markdown",
   "metadata": {},
   "source": [
    "Saurez-vous déchiffrer le message suivant, chiffré à l'aide de la même clé ?"
   ]
  },
  {
   "cell_type": "code",
   "execution_count": 33,
   "metadata": {},
   "outputs": [],
   "source": [
    "cc = V(\"Kcgw&YCVFSl\")"
   ]
  },
  {
   "cell_type": "code",
   "execution_count": 34,
   "metadata": {},
   "outputs": [
    {
     "data": {
      "text/plain": [
       "Oui bravo !"
      ]
     },
     "execution_count": 34,
     "metadata": {},
     "output_type": "execute_result"
    }
   ],
   "source": [
    "cc + k"
   ]
  },
  {
   "cell_type": "markdown",
   "metadata": {},
   "source": [
    "### c) Détection d'erreurs\n",
    "\n",
    "On peut également utiliser la structure algébrique mise sur les caractères pour détecter automatiquement des erreurs de cohérence (erreur de transmission, media de stockage corrompu, ...) dans une chaîne de caractères, en ajoutant des sommes de contrôles. La version la plus simple (généralisant la notion de bit de parité) consiste à  fournir pour chaque chaîne de caractères la somme de tous ceux-ci. Par exemple, pour $\\mathtt{Hello}$ la somme de contrôle vaut $\\mathtt{Z}$, alors que pour $\\mathtt{Burger\\ time!}$ c'est $\\mathtt{r}$."
   ]
  },
  {
   "cell_type": "code",
   "execution_count": 35,
   "metadata": {},
   "outputs": [],
   "source": [
    "v = V(\"La somme est-elle correcte ?\")\n",
    "s = F(\"I\")"
   ]
  },
  {
   "cell_type": "code",
   "execution_count": 36,
   "metadata": {},
   "outputs": [
    {
     "data": {
      "text/plain": [
       "True"
      ]
     },
     "execution_count": 36,
     "metadata": {},
     "output_type": "execute_result"
    }
   ],
   "source": [
    "def sum_ctrl(v):\n",
    "    \n",
    "    temp = F('0')\n",
    "    \n",
    "    for i in v.coeffs :\n",
    "        temp += i\n",
    "        \n",
    "    return temp\n",
    "\n",
    "sum_ctrl(v) == s"
   ]
  },
  {
   "cell_type": "markdown",
   "metadata": {},
   "source": [
    "La fonction renvoie \"True\", on a donc une somme correcte.\n",
    "\n",
    "C'est un résultat totalement cohérent au vu de v."
   ]
  },
  {
   "cell_type": "code",
   "execution_count": 37,
   "metadata": {},
   "outputs": [],
   "source": [
    "v = V(\"Ici y a-t-il une erreur ? C#mment le savez-vous ?\")\n",
    "s = F(\"Z\")"
   ]
  },
  {
   "cell_type": "code",
   "execution_count": 38,
   "metadata": {},
   "outputs": [
    {
     "data": {
      "text/plain": [
       "False"
      ]
     },
     "execution_count": 38,
     "metadata": {},
     "output_type": "execute_result"
    }
   ],
   "source": [
    "sum_ctrl(v) == s"
   ]
  },
  {
   "cell_type": "markdown",
   "metadata": {},
   "source": [
    "La fonction renvoie ici \"False\", c'est à dire une somme incorrecte.\n",
    "\n",
    "C'est un résultat cohérent également puisque la phrase comporte une erreur à \"Comment\"."
   ]
  },
  {
   "cell_type": "markdown",
   "metadata": {},
   "source": [
    "Notez que si, en plus de détecter la présence d'une erreur dans la chaîne, on sait à quel caractère elle s'est produite, on peut même la corriger automatiquement en lui ajoutant le scalaire approprié ; c'est l'idée de base des codes correcteurs d'erreurs (comme le [code de Reed-Solomon](https://en.wikipedia.org/wiki/Reed%E2%80%93Solomon_error_correction)) qui sont extensivement utilisés dans tous les systèmes de communication modernes."
   ]
  },
  {
   "cell_type": "code",
   "execution_count": 39,
   "metadata": {},
   "outputs": [],
   "source": [
    "v = V(\"Est-ce qu'on r#marque toujours toutes les erreurs a!nsi ? Que se paQse-t-il dans cet exe ple ?\")\n",
    "s = F(\"U\")"
   ]
  },
  {
   "cell_type": "code",
   "execution_count": 40,
   "metadata": {},
   "outputs": [
    {
     "data": {
      "text/plain": [
       "True"
      ]
     },
     "execution_count": 40,
     "metadata": {},
     "output_type": "execute_result"
    }
   ],
   "source": [
    "sum_ctrl(v) == s"
   ]
  },
  {
   "cell_type": "markdown",
   "metadata": {},
   "source": [
    "Ici la fonction renvoie \"True\" mais pourtant il y a plusieurs erreurs.\n",
    "\n",
    "Il y a tellement d'erreurs que l'addition de ces-dernières donnent un résultat correct.\n",
    "L'accumulation d'erreurs est un problème et le code de Reed-Solomon permet de solutionner ce problème."
   ]
  },
  {
   "cell_type": "code",
   "execution_count": null,
   "metadata": {},
   "outputs": [],
   "source": []
  }
 ],
 "metadata": {
  "kernelspec": {
   "display_name": "SageMath 9.5",
   "language": "sage",
   "name": "sagemath"
  },
  "language_info": {
   "codemirror_mode": {
    "name": "ipython",
    "version": 3
   },
   "file_extension": ".py",
   "mimetype": "text/x-python",
   "name": "python",
   "nbconvert_exporter": "python",
   "pygments_lexer": "ipython3",
   "version": "3.10.3"
  }
 },
 "nbformat": 4,
 "nbformat_minor": 4
}
